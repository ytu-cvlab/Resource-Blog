{
 "cells": [
  {
   "cell_type": "markdown",
   "metadata": {},
   "source": [
    "# Week 1, Day 2 (Basic Python)\n",
    "\n",
    "> Python for Begineers\n",
    "\n",
    "- toc: true\n",
    "- badges: false\n",
    "- comments: true\n",
    "- categories: [image_processing, overview]"
   ]
  },
  {
   "cell_type": "markdown",
   "metadata": {},
   "source": [
    "# Learning Tip\n",
    "\n",
    "We Strongly recommand learning with playing.<br>\n",
    "We provide the notebook for student to get started.<br>\n",
    "And if you ever get trouble with learning, please feel free to reach out to us."
   ]
  },
  {
   "cell_type": "markdown",
   "metadata": {},
   "source": [
    "# Data Type\n",
    "\n",
    "**Data Type** of a variable describe the properties that variable hold.<br>\n",
    "There are four basic Data Type in Python:\n",
    " 1. Int\n",
    " 2. Float\n",
    " 3. String\n",
    " 4. Boolean\n",
    " \n",
    "For example, `\"Hello World\"` is a **String** data type. We could use  **String** to print the output for user to see.<br>\n",
    "For calculation, we could use **Int** and **Float** data type.\n",
    "eg.\n",
    "```python\n",
    "num1 = 3\n",
    "num2 = 5\n",
    "print(num1 + num2)\n",
    "```\n",
    "```\n",
    "8\n",
    "```"
   ]
  },
  {
   "cell_type": "markdown",
   "metadata": {},
   "source": [
    "## String\n",
    "a = \"hello world\"\n",
    "print(type(a))\n",
    "print(a)\n",
    "print()\n",
    "\n",
    "## Int\n",
    "a = 10\n",
    "print(type(a))\n",
    "print(a)\n",
    "print()\n",
    "\n",
    "## Float\n",
    "a = 10.0\n",
    "print(type(a))\n",
    "print(a)\n",
    "print()\n",
    "\n",
    "## Boolean\n",
    "a = True\n",
    "print(type(a))\n",
    "print(a)\n",
    "print()"
   ]
  },
  {
   "cell_type": "markdown",
   "metadata": {},
   "source": [
    "## Operations on Data Type\n",
    "\n",
    "There are many built-in, already implemented, operations we could do in python.<br>\n",
    "Like, for example, for arithemetic operations:\n",
    " 1. Addition (+)\n",
    " 2. Subtraction (-)\n",
    " 3. Multiplication (*)\n",
    " 4. Division (/)\n",
    " \n",
    "Arithemetic operations, as the name suggest, can only be used in **Int** and **Float** Data Type.\n",
    "\n",
    "For two **String** data type are added, it will just connect the two values."
   ]
  },
  {
   "cell_type": "code",
   "execution_count": 10,
   "metadata": {},
   "outputs": [
    {
     "name": "stdout",
     "output_type": "stream",
     "text": [
      "Adding Two Integers\n",
      "22\n",
      "\n",
      "Adding Two Strings\n",
      "Hello .. User\n",
      "\n",
      "Subtracting\n",
      "-2\n",
      "\n",
      "Multiplying\n",
      "120\n",
      "\n",
      "Division\n",
      "0.8333333333333334\n",
      "\n"
     ]
    }
   ],
   "source": [
    "#collapse-hide\n",
    "a = 10\n",
    "b = 12\n",
    "astring = \"Hello .\"\n",
    "bstring = \". User\"\n",
    "\n",
    "# Add\n",
    "print('Adding Two Integers')\n",
    "print(a + b)\n",
    "print()\n",
    "print('Adding Two Strings')\n",
    "print(astring + bstring)\n",
    "print()\n",
    "\n",
    "# Subtract\n",
    "print('Subtracting')\n",
    "print(a - b)\n",
    "print()\n",
    "\n",
    "# Multiply\n",
    "print('Multiplying')\n",
    "print(a * b)\n",
    "print()\n",
    "\n",
    "# Division\n",
    "print('Division')\n",
    "print(a / b)\n",
    "print()"
   ]
  },
  {
   "cell_type": "markdown",
   "metadata": {},
   "source": [
    "> Note: We could only do operations on the same data type.\n",
    "\n",
    "For example, **Int** variable and **String** variable could not be added (will raise an *error*)."
   ]
  },
  {
   "cell_type": "code",
   "execution_count": 4,
   "metadata": {},
   "outputs": [
    {
     "ename": "TypeError",
     "evalue": "unsupported operand type(s) for +: 'int' and 'str'",
     "output_type": "error",
     "traceback": [
      "\u001b[0;31m---------------------------------------------------------------------------\u001b[0m",
      "\u001b[0;31mTypeError\u001b[0m                                 Traceback (most recent call last)",
      "\u001b[0;32m<ipython-input-4-857b62d6dea8>\u001b[0m in \u001b[0;36m<module>\u001b[0;34m\u001b[0m\n\u001b[1;32m      2\u001b[0m \u001b[0ma\u001b[0m \u001b[0;34m=\u001b[0m \u001b[0;36m10\u001b[0m\u001b[0;34m\u001b[0m\u001b[0;34m\u001b[0m\u001b[0m\n\u001b[1;32m      3\u001b[0m \u001b[0mb\u001b[0m \u001b[0;34m=\u001b[0m \u001b[0;34m'hello world'\u001b[0m\u001b[0;34m\u001b[0m\u001b[0;34m\u001b[0m\u001b[0m\n\u001b[0;32m----> 4\u001b[0;31m \u001b[0mprint\u001b[0m\u001b[0;34m(\u001b[0m\u001b[0ma\u001b[0m \u001b[0;34m+\u001b[0m \u001b[0mb\u001b[0m\u001b[0;34m)\u001b[0m\u001b[0;34m\u001b[0m\u001b[0;34m\u001b[0m\u001b[0m\n\u001b[0m",
      "\u001b[0;31mTypeError\u001b[0m: unsupported operand type(s) for +: 'int' and 'str'"
     ]
    }
   ],
   "source": [
    "#collapse-hide\n",
    "a = 10\n",
    "b = 'hello world'\n",
    "print(a + b)"
   ]
  },
  {
   "cell_type": "markdown",
   "metadata": {},
   "source": [
    "# Data Structure\n",
    "\n",
    "Data Structure is a collection of variables.<br>\n",
    "Based on the method of collecting the varibles, the four basic data structure are presented in Python.\n",
    " 1. List\n",
    " 2. Tuple\n",
    " 3. Dictionary\n",
    " 4. Set"
   ]
  },
  {
   "cell_type": "code",
   "execution_count": 22,
   "metadata": {},
   "outputs": [
    {
     "name": "stdout",
     "output_type": "stream",
     "text": [
      "List :  [1, 2, 3, 1, 2, 3]\n",
      "Tuple :  (1, 2, 3, 1, 2, 3)\n",
      "Dictionary :  {'a': 1, 'b': 2, 'c': 3, 'd': 1, 'e': 2, 'f': 3}\n",
      "Set :  {1, 2, 3, 'eh'}\n"
     ]
    }
   ],
   "source": [
    "#collapse-hide\n",
    "# Creat different Data Structure\n",
    "\n",
    "# list\n",
    "list_var = [1, 2, 3, 1, 2, 3]\n",
    "# tuple\n",
    "tuple_var = (1, 2, 3, 1, 2, 3)\n",
    "# dictionary\n",
    "dict_var = {'a':1, 'b':2, 'c':3, 'd':1, 'e':2, 'f':3}\n",
    "# set\n",
    "set_var = {1, 2, 3, 1, 2, 3}\n",
    "\n",
    "\n",
    "print(\"List : \", list_var)\n",
    "print(\"Tuple : \", tuple_var)\n",
    "print(\"Dictionary : \", dict_var)\n",
    "print(\"Set : \", set_var)"
   ]
  },
  {
   "cell_type": "markdown",
   "metadata": {},
   "source": [
    "## List\n",
    "The most commonly used data structure in python because of the following properties.<br>\n",
    " 1. Access element in Ordered\n",
    " 2. Mutable\n",
    " \n",
    "## Tuple\n",
    " 1. Access element in Ordered\n",
    " 2. Immutable\n",
    " \n",
    "## Dictionary\n",
    " 1. Unordered\n",
    " 2. Key-Value paired\n",
    " \n",
    "## Set\n",
    " 1. Unordered\n",
    " 2. Exclusive"
   ]
  },
  {
   "cell_type": "markdown",
   "metadata": {},
   "source": [
    "# Conditional Loop"
   ]
  },
  {
   "cell_type": "markdown",
   "metadata": {},
   "source": [
    "## if-else\n",
    "## for\n",
    "## while"
   ]
  },
  {
   "cell_type": "markdown",
   "metadata": {},
   "source": [
    "# Functions"
   ]
  },
  {
   "cell_type": "markdown",
   "metadata": {},
   "source": [
    "# Class"
   ]
  },
  {
   "cell_type": "markdown",
   "metadata": {},
   "source": [
    "[Reference](https://python.swaroopch.com/data_structures.html)"
   ]
  },
  {
   "cell_type": "code",
   "execution_count": null,
   "metadata": {},
   "outputs": [],
   "source": []
  }
 ],
 "metadata": {
  "kernelspec": {
   "display_name": "Python 3",
   "language": "python",
   "name": "python3"
  },
  "language_info": {
   "codemirror_mode": {
    "name": "ipython",
    "version": 3
   },
   "file_extension": ".py",
   "mimetype": "text/x-python",
   "name": "python",
   "nbconvert_exporter": "python",
   "pygments_lexer": "ipython3",
   "version": "3.8.5"
  }
 },
 "nbformat": 4,
 "nbformat_minor": 4
}
