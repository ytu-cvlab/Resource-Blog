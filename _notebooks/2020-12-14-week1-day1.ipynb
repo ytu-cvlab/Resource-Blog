{
 "cells": [
  {
   "cell_type": "markdown",
   "metadata": {},
   "source": [
    "# Week 1, Day 1 (Introduction to the course)\n",
    "> Welcome to first day (Week 1) of the McE-51069 course. We will introduce our course and guide you with necessary software installations and workflow of the course.\n",
    "\n",
    "- toc: true\n",
    "- badges: false\n",
    "- comments: false\n",
    "- categories: [assignment, installation_guide, student_id]"
   ]
  },
  {
   "cell_type": "markdown",
   "metadata": {},
   "source": [
    "# Anaconda and Jupyter Notebook"
   ]
  },
  {
   "cell_type": "markdown",
   "metadata": {},
   "source": [
    "# Anaconda Installation on Windows\n",
    "\n",
    "> youtube: https://youtu.be/-d4aMzxo7P0"
   ]
  },
  {
   "cell_type": "markdown",
   "metadata": {},
   "source": [
    "# Anaconda Installation on Mac\n",
    "\n",
    "> youtube: https://youtu.be/RZzkxGzvGjE"
   ]
  },
  {
   "cell_type": "markdown",
   "metadata": {},
   "source": [
    "# How to use Jupyter Notebook\n",
    "\n",
    "> youtube: https://youtu.be/yQuN-mobErE"
   ]
  },
  {
   "cell_type": "markdown",
   "metadata": {},
   "source": [
    "# Student ID and Attendance\n",
    "\n",
    "Please fill out this form from this [link](https://forms.gle/EXuSyTY3QVcRkxoF9) to get your student ID."
   ]
  },
  {
   "cell_type": "markdown",
   "metadata": {},
   "source": [
    "We will record attendance in every session with google forms provided only in zoom chat."
   ]
  },
  {
   "cell_type": "markdown",
   "metadata": {},
   "source": [
    "# Assignment\n",
    "\n",
    "Please submit your week 1 assignments from this [link](https://forms.gle/Gt3GfYKiAtnYQMBG9). We will return your assignment scores after the deadline day (you can check on your submission form). Please note that we will return your final grade only if you submit all the assignments."
   ]
  }
 ],
 "metadata": {
  "kernelspec": {
   "display_name": "Python 3",
   "language": "python",
   "name": "python3"
  },
  "language_info": {
   "codemirror_mode": {
    "name": "ipython",
    "version": 3
   },
   "file_extension": ".py",
   "mimetype": "text/x-python",
   "name": "python",
   "nbconvert_exporter": "python",
   "pygments_lexer": "ipython3",
   "version": "3.8.5"
  }
 },
 "nbformat": 4,
 "nbformat_minor": 4
}
