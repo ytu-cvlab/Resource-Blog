{
 "cells": [
  {
   "cell_type": "markdown",
   "metadata": {},
   "source": [
    "# Week 1, Day 2 (Python for Data Science)\n",
    "> Welcome to second day (Week 1) of the McE-51069 course. We will introduce the basics of Python programming language and share you necessary lectures and assignment notebooks.\n",
    "\n",
    "- sticky_rank: 2\n",
    "- toc: true\n",
    "- badges: false\n",
    "- comments: false\n",
    "- categories: [python]"
   ]
  },
  {
   "cell_type": "markdown",
   "metadata": {},
   "source": [
    "## Notebooks and Assignments\n",
    "\n",
    "Please download all the lectures and assignment notebooks of week 1 (Day 2) [here](https://github.com/ytu-cvlab/mce-51069-week1-day2/archive/main.zip)."
   ]
  },
  {
   "cell_type": "markdown",
   "metadata": {},
   "source": [
    "## Learning Tips\n",
    "\n",
    "> We Strongly recommand learning with playing.<br>\n",
    "We provide notebooks for students to get started.<br>\n",
    "If you get trouble with learning, please feel free to reach out to us on [facebook](https://www.facebook.com/groups/467439787576222) and [email](cvml.ytumc@gmail.com)."
   ]
  },
  {
   "cell_type": "markdown",
   "metadata": {},
   "source": [
    "# Data Types\n",
    "\n",
    "**Data Type** of a variable describe the properties that variable hold.<br>\n",
    "In python, there are built-in data-types, some of which are described below:\n",
    "\n",
    " 1. Int (1 ,100, 99)\n",
    " 2. Float (1.0, 3.14, 2.718)\n",
    " 3. String (\"Myanmar\", \"Burma\")\n",
    " 4. Boolean (True, False)\n",
    " 5. Complex (1+0j)\n",
    " 6. null (None)\n",
    " \n",
    "\n",
    "To describe the various properties in the real world, we must use different data type.\n",
    "\n",
    "eg.<br>If we want to describe a person's `name`, we would use `String`.<br>\n",
    "<br>`Int` for his/her `age`, <br>`Float` for his/her `height` in (cm), <br>and `Boolean` for he/she `is_graduated`, and so on.\n",
    "\n",
    "The main take away from this course is knowing the difference data type and their usage.\n",
    "\n",
    "We could create difference variables in following ways:<br>\n",
    "```python\n",
    "# Int\n",
    "int1 = 5\n",
    "int2 = 3\n",
    "\n",
    "# Float\n",
    "float1 = 1.\n",
    "float2 = 3.14\n",
    "\n",
    "# String\n",
    "string1 = \"Hello\"\n",
    "string2 = 'World'\n",
    "\n",
    "# Boolean\n",
    "bool1 = True\n",
    "bool2 = False\n",
    "\n",
    "print(int1)\n",
    "```\n",
    "```\n",
    "5\n",
    "```\n",
    "\n",
    "`print` function is used to print the values of the variable to the output screen."
   ]
  },
  {
   "cell_type": "markdown",
   "metadata": {},
   "source": [
    "## Operations on Data Type\n",
    "\n",
    "### Arithmetic Operations on Number Data Type\n",
    "\n",
    "Simple Arithmetic Operations such as:\n",
    " - Addition (+)\n",
    " - Subtraction (-)\n",
    " - Multiplication (*)\n",
    " - Division (/)\n",
    "\n",
    "can be done on Number Data Types (**Int** and **Float**) as shown Below. "
   ]
  },
  {
   "cell_type": "code",
   "execution_count": 8,
   "metadata": {},
   "outputs": [
    {
     "name": "stdout",
     "output_type": "stream",
     "text": [
      "8\n",
      "2\n",
      "15\n",
      "1.6666666666666667\n",
      "2\n",
      "125\n",
      "\n",
      "4.140000000000001\n",
      "-2.14\n",
      "3.14\n",
      "0.3184713375796178\n",
      "1.0\n",
      "1.0\n"
     ]
    }
   ],
   "source": [
    "#collapse-hide\n",
    "int1 = 5\n",
    "int2 = 3\n",
    "# We can add, subtract two elements of 'Int' dtype.\n",
    "print(int1 + int2) # Addition\n",
    "print(int1 - int2) # Subtraction\n",
    "print(int1 * int2) # Multiplication\n",
    "print(int1 / int2) # Division\n",
    "print(int1 % int2) # Remainder\n",
    "print(int1**int2) # Power\n",
    "print()\n",
    "\n",
    "float1 = 1.\n",
    "float2 = 3.14\n",
    "# We can add, subtract two elements of 'Float' dtype.\n",
    "print(float1 + float2)\n",
    "print(float1 - float2)\n",
    "print(float1 * float2)\n",
    "print(float1 / float2)\n",
    "print(float1 % float2)\n",
    "print(float1**float2)"
   ]
  },
  {
   "cell_type": "markdown",
   "metadata": {},
   "source": [
    "### String Operation\n",
    "\n",
    "For variable that is of `String` data type, we could *Concatenate* Two string,<br>\n",
    "We could also use `f-Strings` format for better formating of strings.<br>\n",
    "\n",
    "In `f-Strings`, we could enter varibles in the string format."
   ]
  },
  {
   "cell_type": "code",
   "execution_count": 3,
   "metadata": {},
   "outputs": [
    {
     "name": "stdout",
     "output_type": "stream",
     "text": [
      "HelloWorld\n",
      "Hello World, Welcome to the wanderland\n",
      "Hello World, This is testing the f-Strings\n"
     ]
    }
   ],
   "source": [
    "#collapse-hide\n",
    "string1 = \"Hello\"\n",
    "string2 = \"World\"\n",
    "\n",
    "# Simple concatenate two string\n",
    "concatenate_string = string1 + string2\n",
    "print(concatenate_string)\n",
    "\n",
    "# F string format.\n",
    "f_string = f\"Hello World, Welcome to the wanderland\"\n",
    "print(f_string)\n",
    "\n",
    "f_string_var = f\"{string1} {string2}, This is testing the f-Strings\"\n",
    "print(f_string_var)"
   ]
  },
  {
   "cell_type": "markdown",
   "metadata": {},
   "source": [
    "> Note: We could only do operations on the same data type.\n",
    "\n",
    "For example, **Int** variable and **String** variable could not be added (will raise an *error*)."
   ]
  },
  {
   "cell_type": "code",
   "execution_count": 4,
   "metadata": {},
   "outputs": [
    {
     "ename": "TypeError",
     "evalue": "unsupported operand type(s) for +: 'int' and 'str'",
     "output_type": "error",
     "traceback": [
      "\u001b[0;31m---------------------------------------------------------------------------\u001b[0m",
      "\u001b[0;31mTypeError\u001b[0m                                 Traceback (most recent call last)",
      "\u001b[0;32m<ipython-input-4-857b62d6dea8>\u001b[0m in \u001b[0;36m<module>\u001b[0;34m\u001b[0m\n\u001b[1;32m      2\u001b[0m \u001b[0ma\u001b[0m \u001b[0;34m=\u001b[0m \u001b[0;36m10\u001b[0m\u001b[0;34m\u001b[0m\u001b[0;34m\u001b[0m\u001b[0m\n\u001b[1;32m      3\u001b[0m \u001b[0mb\u001b[0m \u001b[0;34m=\u001b[0m \u001b[0;34m'hello world'\u001b[0m\u001b[0;34m\u001b[0m\u001b[0;34m\u001b[0m\u001b[0m\n\u001b[0;32m----> 4\u001b[0;31m \u001b[0mprint\u001b[0m\u001b[0;34m(\u001b[0m\u001b[0ma\u001b[0m \u001b[0;34m+\u001b[0m \u001b[0mb\u001b[0m\u001b[0;34m)\u001b[0m\u001b[0;34m\u001b[0m\u001b[0;34m\u001b[0m\u001b[0m\n\u001b[0m",
      "\u001b[0;31mTypeError\u001b[0m: unsupported operand type(s) for +: 'int' and 'str'"
     ]
    }
   ],
   "source": [
    "#collapse-hide\n",
    "a = 10\n",
    "b = 'hello world'\n",
    "print(a + b)"
   ]
  },
  {
   "cell_type": "markdown",
   "metadata": {},
   "source": [
    "```TypeError :can only concatenate str to str | int to int```\n",
    "\n",
    "Different Data Types cannot be added (concatenate) together.<br>"
   ]
  },
  {
   "cell_type": "markdown",
   "metadata": {},
   "source": [
    "If you would like to learn more about data types and their operations in python, please visit to the official Python [documentation](https://docs.python.org/3/tutorial/introduction.html#numbers).\n",
    "\n",
    "------\n",
    "\n",
    "We always encourage students to check out the documents, because that is the most informative way of learning."
   ]
  },
  {
   "cell_type": "markdown",
   "metadata": {},
   "source": [
    "# Data Structure\n",
    "\n",
    "Data Structure is a collection of variables.<br>\n",
    "Based on the method of collecting the varibles, the four basic data structures are presented in Python.\n",
    " 1. List\n",
    " 2. Tuple\n",
    " 3. Dictionary\n",
    " 4. Set"
   ]
  },
  {
   "cell_type": "code",
   "execution_count": 14,
   "metadata": {},
   "outputs": [
    {
     "name": "stdout",
     "output_type": "stream",
     "text": [
      "<class 'list'> [1, 2, 3, 4, 1, 2, 3, 4]\n",
      "<class 'set'> {1, 2, 3, 4}\n",
      "<class 'tuple'> (1, 2, 3, 4, 1, 2, 3, 4)\n",
      "<class 'dict'> {'a': 1, 'b': 2, 'c': 3, 'd': 4, 'e': 1, 'f': 2}\n"
     ]
    }
   ],
   "source": [
    "#collapse-hide\n",
    "# Simple Creation of each four types of structures\n",
    "\n",
    "list_obj = [1, 2, 3, 4, 1, 2, 3, 4]\n",
    "set_obj = {1, 2, 3, 4, 1, 2, 3, 4}\n",
    "tuple_obj = (1, 2, 3, 4, 1, 2, 3, 4)\n",
    "dict_obj = {'a':1, 'b':2, 'c':3, 'd':4, 'e':1, 'f':2}\n",
    "\n",
    "print(type(list_obj), list_obj)\n",
    "print(type(set_obj), set_obj)\n",
    "print(type(tuple_obj), tuple_obj)\n",
    "print(type(dict_obj), dict_obj)"
   ]
  },
  {
   "cell_type": "markdown",
   "metadata": {},
   "source": [
    "## List\n",
    "\n",
    "The Most commonly used data structure in Python, `List` has the following properties :\n",
    " 1. Element accessable with order\n",
    " 2. Mutable (variable value can be changed)\n"
   ]
  },
  {
   "cell_type": "code",
   "execution_count": 4,
   "metadata": {},
   "outputs": [
    {
     "name": "stdout",
     "output_type": "stream",
     "text": [
      "Heights of student in class...\n",
      "[170, 172, 174, 160, 178]\n"
     ]
    }
   ],
   "source": [
    "#collapse-hide\n",
    "height_list = [170, 172, 174, 160, 178]\n",
    "\n",
    "print(\"Heights of student in class...\")\n",
    "print(height_list)"
   ]
  },
  {
   "cell_type": "markdown",
   "metadata": {},
   "source": [
    "### Access with Index\n",
    "\n",
    "![](animations/index_animation.gif)\n",
    "\n",
    "> Note: If we access element that is out of range, it will rasie `IndexError` as follow"
   ]
  },
  {
   "cell_type": "code",
   "execution_count": 4,
   "metadata": {},
   "outputs": [
    {
     "name": "stdout",
     "output_type": "stream",
     "text": [
      "Student A height :  170\n",
      "Student B height :  172\n",
      "Student A height :  174\n",
      "Student B height :  160\n",
      "Student A height :  178\n"
     ]
    },
    {
     "ename": "IndexError",
     "evalue": "list index out of range",
     "output_type": "error",
     "traceback": [
      "\u001b[0;31m---------------------------------------------------------------------------\u001b[0m",
      "\u001b[0;31mIndexError\u001b[0m                                Traceback (most recent call last)",
      "\u001b[0;32m<ipython-input-4-d5a3a372c0b9>\u001b[0m in \u001b[0;36m<module>\u001b[0;34m\u001b[0m\n\u001b[1;32m      4\u001b[0m \u001b[0mprint\u001b[0m\u001b[0;34m(\u001b[0m\u001b[0;34m\"Student B height : \"\u001b[0m\u001b[0;34m,\u001b[0m \u001b[0mlist_height\u001b[0m\u001b[0;34m[\u001b[0m\u001b[0;36m3\u001b[0m\u001b[0;34m]\u001b[0m\u001b[0;34m)\u001b[0m\u001b[0;34m\u001b[0m\u001b[0;34m\u001b[0m\u001b[0m\n\u001b[1;32m      5\u001b[0m \u001b[0mprint\u001b[0m\u001b[0;34m(\u001b[0m\u001b[0;34m\"Student A height : \"\u001b[0m\u001b[0;34m,\u001b[0m \u001b[0mlist_height\u001b[0m\u001b[0;34m[\u001b[0m\u001b[0;36m4\u001b[0m\u001b[0;34m]\u001b[0m\u001b[0;34m)\u001b[0m\u001b[0;34m\u001b[0m\u001b[0;34m\u001b[0m\u001b[0m\n\u001b[0;32m----> 6\u001b[0;31m \u001b[0mprint\u001b[0m\u001b[0;34m(\u001b[0m\u001b[0;34m\"Student B height : \"\u001b[0m\u001b[0;34m,\u001b[0m \u001b[0mlist_height\u001b[0m\u001b[0;34m[\u001b[0m\u001b[0;36m5\u001b[0m\u001b[0;34m]\u001b[0m\u001b[0;34m)\u001b[0m\u001b[0;34m\u001b[0m\u001b[0;34m\u001b[0m\u001b[0m\n\u001b[0m",
      "\u001b[0;31mIndexError\u001b[0m: list index out of range"
     ]
    }
   ],
   "source": [
    "#collapse-hide\n",
    "print(\"Student A height : \", list_height[0])\n",
    "print(\"Student B height : \", list_height[1])\n",
    "print(\"Student A height : \", list_height[2])\n",
    "print(\"Student B height : \", list_height[3])\n",
    "print(\"Student A height : \", list_height[4])\n",
    "print(\"Student B height : \", list_height[5])"
   ]
  },
  {
   "cell_type": "markdown",
   "metadata": {},
   "source": [
    "```IndexError: list index out of range.```<br>\n",
    "Because there are only 5 elements in that list, `list_height[5]` requests for 6th element, which is out of range."
   ]
  },
  {
   "cell_type": "markdown",
   "metadata": {},
   "source": [
    "### Access with iteration (For Loop)"
   ]
  },
  {
   "cell_type": "code",
   "execution_count": 7,
   "metadata": {},
   "outputs": [
    {
     "name": "stdout",
     "output_type": "stream",
     "text": [
      "170,172,174,160,178,\n",
      "There are total of 5 students in the class\n"
     ]
    }
   ],
   "source": [
    "#collapse-hide\n",
    "num_student = 0\n",
    "\n",
    "for height in list_height:\n",
    "    num_student += 1\n",
    "    print(height, end = ',')\n",
    "    \n",
    "print(f\"\\nThere are total of {num_student} students in the class\")"
   ]
  },
  {
   "cell_type": "markdown",
   "metadata": {},
   "source": [
    "### List with different Datatype\n",
    "\n",
    "We could store, not just one datatype, but variables with different data type in a list. "
   ]
  },
  {
   "cell_type": "code",
   "execution_count": 10,
   "metadata": {},
   "outputs": [
    {
     "name": "stdout",
     "output_type": "stream",
     "text": [
      "Student A Info :  ['Aung_Paing', 'McE', 3, 6]\n",
      "Student B Info :  ['Soe_Pyae', 'Civil', 3, 6]\n"
     ]
    }
   ],
   "source": [
    "#collapse-hide\n",
    "student_A = [\"Aung Aung\", \"McE\", 3, 6]\n",
    "student_B = [\"Soe Pyae\", \"Civil\", 3, 6]\n",
    "\n",
    "print(\"Student A Info : \", student_A)\n",
    "print(\"Student B Info : \", student_B)"
   ]
  },
  {
   "cell_type": "code",
   "execution_count": 11,
   "metadata": {},
   "outputs": [
    {
     "name": "stdout",
     "output_type": "stream",
     "text": [
      "9\n",
      "Aung_PaingMcE\n"
     ]
    },
    {
     "ename": "TypeError",
     "evalue": "can only concatenate str (not \"int\") to str",
     "output_type": "error",
     "traceback": [
      "\u001b[0;31m---------------------------------------------------------------------------\u001b[0m",
      "\u001b[0;31mTypeError\u001b[0m                                 Traceback (most recent call last)",
      "\u001b[0;32m<ipython-input-11-b71be46f223e>\u001b[0m in \u001b[0;36m<module>\u001b[0;34m\u001b[0m\n\u001b[1;32m      2\u001b[0m \u001b[0mprint\u001b[0m\u001b[0;34m(\u001b[0m\u001b[0mstudent_A\u001b[0m\u001b[0;34m[\u001b[0m\u001b[0;36m2\u001b[0m\u001b[0;34m]\u001b[0m \u001b[0;34m+\u001b[0m \u001b[0mstudent_A\u001b[0m\u001b[0;34m[\u001b[0m\u001b[0;36m3\u001b[0m\u001b[0;34m]\u001b[0m\u001b[0;34m)\u001b[0m\u001b[0;34m\u001b[0m\u001b[0;34m\u001b[0m\u001b[0m\n\u001b[1;32m      3\u001b[0m \u001b[0mprint\u001b[0m\u001b[0;34m(\u001b[0m\u001b[0mstudent_A\u001b[0m\u001b[0;34m[\u001b[0m\u001b[0;36m0\u001b[0m\u001b[0;34m]\u001b[0m \u001b[0;34m+\u001b[0m \u001b[0mstudent_A\u001b[0m\u001b[0;34m[\u001b[0m\u001b[0;36m1\u001b[0m\u001b[0;34m]\u001b[0m\u001b[0;34m)\u001b[0m\u001b[0;34m\u001b[0m\u001b[0;34m\u001b[0m\u001b[0m\n\u001b[0;32m----> 4\u001b[0;31m \u001b[0mprint\u001b[0m\u001b[0;34m(\u001b[0m\u001b[0mstudent_A\u001b[0m\u001b[0;34m[\u001b[0m\u001b[0;36m1\u001b[0m\u001b[0;34m]\u001b[0m \u001b[0;34m+\u001b[0m \u001b[0mstudent_A\u001b[0m\u001b[0;34m[\u001b[0m\u001b[0;36m2\u001b[0m\u001b[0;34m]\u001b[0m\u001b[0;34m)\u001b[0m\u001b[0;34m\u001b[0m\u001b[0;34m\u001b[0m\u001b[0m\n\u001b[0m",
      "\u001b[0;31mTypeError\u001b[0m: can only concatenate str (not \"int\") to str"
     ]
    }
   ],
   "source": [
    "#collapse-hide\n",
    "# But Be Aware, We do not know which element contain what information..\n",
    "print(student_A[2] + student_A[3])\n",
    "print(student_A[0] + student_A[1])\n",
    "print(student_A[1] + student_A[2])"
   ]
  },
  {
   "cell_type": "markdown",
   "metadata": {},
   "source": [
    "```TypeError :can only concatenate str to str | int to int```<br><br>\n",
    "This often happen in `List` when we try to store different data type into one list.<br>\n",
    "It is hard to get exact index for each element.<br>\n",
    "For that, in python, we use `Dictionary` to store key-value paired information."
   ]
  },
  {
   "cell_type": "markdown",
   "metadata": {},
   "source": [
    "## Dictionary\n",
    "\n",
    "When we walk into a library and want to find a book, we search by the book title, the book author or may be the published year.<br>\n",
    "Python use the same idea to store value for the varible, by creating the key for that value.<br>\n",
    "That is why you often heard `Dictionary` in python is key-value paired."
   ]
  },
  {
   "cell_type": "code",
   "execution_count": 9,
   "metadata": {},
   "outputs": [
    {
     "name": "stdout",
     "output_type": "stream",
     "text": [
      "{'Name': 'Aung Aung', 'Major': 'McE', 'Batch': 3, 'Year': 6}\n",
      "{'Name': 'Soe Soe', 'Major': 'Civil', 'Batch': 3, 'Year': 6}\n"
     ]
    }
   ],
   "source": [
    "#collapse-hide\n",
    "# Dictionary\n",
    "student_A_dict = {\"Name\" : \"Aung Aung\",\n",
    "                 \"Major\" : \"McE\",\n",
    "                 \"Batch\" : 3,\n",
    "                 \"Year\" : 6}\n",
    "\n",
    "student_B_dict = {\"Name\" : \"Soe Soe\",\n",
    "                 \"Major\" : \"Civil\",\n",
    "                 \"Batch\" : 3,\n",
    "                 \"Year\" : 6}\n",
    "\n",
    "\n",
    "print(student_A_dict)\n",
    "print(student_B_dict)"
   ]
  },
  {
   "cell_type": "code",
   "execution_count": 10,
   "metadata": {},
   "outputs": [
    {
     "name": "stdout",
     "output_type": "stream",
     "text": [
      "Name :  Aung Aung\n",
      "Major :  McE\n",
      "Batch :  3\n",
      "Year :  6\n"
     ]
    }
   ],
   "source": [
    "#collapse-hide\n",
    "# In Dict, we only need to specify the 'Key' to find the 'Value'.\n",
    "print(\"Name : \", student_A_dict[\"Name\"])\n",
    "print(\"Major : \", student_A_dict[\"Major\"])\n",
    "print(\"Batch : \", student_A_dict[\"Batch\"])\n",
    "print(\"Year : \", student_A_dict[\"Year\"])"
   ]
  },
  {
   "cell_type": "markdown",
   "metadata": {},
   "source": [
    "## Tuple\n",
    "\n",
    "Sometimes, we need **immutable** data.<br>\n",
    "Like the *Coordinate* of a location, your lovely *Birthday Date*, his/her *Phone Number* or may be even your *gene code*.<br>\n",
    "These information, we want to access them, but not change them, are created with `Tuple`."
   ]
  },
  {
   "cell_type": "code",
   "execution_count": 20,
   "metadata": {},
   "outputs": [
    {
     "name": "stdout",
     "output_type": "stream",
     "text": [
      "<class 'tuple'>\n",
      "(11, 1, 1998)\n"
     ]
    }
   ],
   "source": [
    "#collapse-hide\n",
    "home_coordinate = (123, 456)\n",
    "birthday = (11, 1, 1998)\n",
    "\n",
    "print(type(birthday))\n",
    "print(birthday)"
   ]
  },
  {
   "cell_type": "code",
   "execution_count": 21,
   "metadata": {},
   "outputs": [
    {
     "name": "stdout",
     "output_type": "stream",
     "text": [
      "1\n"
     ]
    },
    {
     "ename": "TypeError",
     "evalue": "'tuple' object does not support item assignment",
     "output_type": "error",
     "traceback": [
      "\u001b[0;31m---------------------------------------------------------------------------\u001b[0m",
      "\u001b[0;31mTypeError\u001b[0m                                 Traceback (most recent call last)",
      "\u001b[0;32m<ipython-input-21-37b3c9f0dcce>\u001b[0m in \u001b[0;36m<module>\u001b[0;34m\u001b[0m\n\u001b[1;32m      4\u001b[0m \u001b[0;34m\u001b[0m\u001b[0m\n\u001b[1;32m      5\u001b[0m \u001b[0;31m# Let's try to change the day I was borned....\u001b[0m\u001b[0;34m\u001b[0m\u001b[0;34m\u001b[0m\u001b[0;34m\u001b[0m\u001b[0m\n\u001b[0;32m----> 6\u001b[0;31m \u001b[0mbirthday\u001b[0m\u001b[0;34m[\u001b[0m\u001b[0;36m1\u001b[0m\u001b[0;34m]\u001b[0m \u001b[0;34m=\u001b[0m \u001b[0;36m10\u001b[0m\u001b[0;34m\u001b[0m\u001b[0;34m\u001b[0m\u001b[0m\n\u001b[0m",
      "\u001b[0;31mTypeError\u001b[0m: 'tuple' object does not support item assignment"
     ]
    }
   ],
   "source": [
    "#collapse-hide\n",
    "# Let's try to access the month I was borned...\n",
    "month = birthday[1]\n",
    "print(month)\n",
    "\n",
    "# Let's try to change the day I was borned....\n",
    "birthday[1] = 10"
   ]
  },
  {
   "cell_type": "markdown",
   "metadata": {},
   "source": [
    "## Set\n",
    "    \n",
    "`Set` as the name suggest, is a set of collection.<br>\n",
    "it does not care about the order of that collection or how many elements are in that collection, it only cares about the representative in that collection."
   ]
  },
  {
   "cell_type": "code",
   "execution_count": 11,
   "metadata": {},
   "outputs": [
    {
     "name": "stdout",
     "output_type": "stream",
     "text": [
      "<class 'set'>\n",
      "{1, 2, 3, 4}\n"
     ]
    }
   ],
   "source": [
    "#collapse-hide\n",
    "set_obj = {1, 2, 3, 1, 2, 3, 4}\n",
    "\n",
    "print(type(set_obj))\n",
    "print(set_obj)"
   ]
  },
  {
   "cell_type": "markdown",
   "metadata": {},
   "source": [
    "If you would like to know more about Data Structure in Python. Please visit official Python [cocumentation](https://docs.python.org/3/tutorial/datastructures.html)"
   ]
  },
  {
   "cell_type": "markdown",
   "metadata": {},
   "source": [
    "# Conditional & Loop in Python\n",
    "\n",
    "In a Program, there always exist logics.<br>\n",
    "Like, if I am *Happy* in coding, I would like to get job in *Coding*.<br>"
   ]
  },
  {
   "cell_type": "markdown",
   "metadata": {},
   "source": [
    "## Conditional\n",
    "\n",
    "In Python, such conditional can be constructed by `if-else` statement."
   ]
  },
  {
   "cell_type": "code",
   "execution_count": 1,
   "metadata": {},
   "outputs": [
    {
     "name": "stdout",
     "output_type": "stream",
     "text": [
      "Today weather is fine, I am going out.\n"
     ]
    }
   ],
   "source": [
    "#collapse-hide\n",
    "# Simple if-else case\n",
    "rain = False\n",
    "\n",
    "if not rain:\n",
    "    print(\"Today weather is fine, I am going out.\")\n",
    "else:\n",
    "    print(\"It is raining, I cannot go out...\")\n",
    "    "
   ]
  },
  {
   "cell_type": "markdown",
   "metadata": {},
   "source": [
    "## Loop\n",
    "\n",
    "There are two main types of loop in python.\n",
    " 1. for\n",
    " 2. while\n",
    " \n",
    " \n",
    "`For` iterates for the given range,<br>\n",
    "`While` checks the condition and continue iteration until condition is False.\n",
    "\n",
    "```python\n",
    "for range():\n",
    "```\n",
    "\n",
    "```python\n",
    "while condition:\n",
    "```\n",
    "\n",
    "If you would like to study more about Conditional and Loop in Python, please visit the official Python \n",
    "[documentation](https://docs.python.org/3/tutorial/controlflow.html)."
   ]
  },
  {
   "cell_type": "markdown",
   "metadata": {},
   "source": [
    "# Functions\n",
    "\n",
    "Functions are great arsenal in python.<br> You could think of **functions** as a factory, that `process(do function)` the `raw inputs(Arguments)` to `Desired products(output)`.\n",
    "There are two types of functions in Python.\n",
    " 1. [Built-in Function](#built_in)<br>\n",
    " [Reference : Python Official](https://docs.python.org/3/library/functions.html)\n",
    " 2. [User Defined Function](#user)<br>\n",
    " [Reference : Python Official](https://docs.python.org/3/tutorial/controlflow.html#defining-functions)"
   ]
  },
  {
   "cell_type": "markdown",
   "metadata": {},
   "source": [
    "<a id=built_in></a>\n",
    "## Built-in Functions\n",
    "\n",
    "Built-in Functions are functions that come along with python. They could be very useful when you need them.<br>\n",
    "Following are some examples for such case."
   ]
  },
  {
   "cell_type": "code",
   "execution_count": 4,
   "metadata": {},
   "outputs": [
    {
     "name": "stdout",
     "output_type": "stream",
     "text": [
      "-5\n",
      "5\n",
      "-5 <class 'str'>\n",
      "True\n",
      "{1, 2, 3}\n"
     ]
    }
   ],
   "source": [
    "#collapse-hide\n",
    "int_obj = -5\n",
    "print(int_obj)\n",
    "\n",
    "# Find the absolute value\n",
    "abs_int = abs(int_obj)\n",
    "print(abs_int)\n",
    "\n",
    "# Convert Int to String\n",
    "int2str = str(int_obj)\n",
    "print(int2str, type(int2str))\n",
    "\n",
    "# Check the datatype\n",
    "print(isinstance(int_obj, int))\n",
    "\n",
    "# Also, we could use built-in Functions to construct data-structures.\n",
    "set_obj = set((1, 2, 3, 1, 2, 3))\n",
    "print(set_obj)"
   ]
  },
  {
   "cell_type": "markdown",
   "metadata": {},
   "source": [
    "<a id=user></a>\n",
    "## User-Defined Functions\n",
    "\n",
    "We could also defind functions as we would like the program to process.<br>\n",
    "Typical function in python consists of following parts.\n",
    "\n",
    "![](images/function.jpeg)\n",
    "\n",
    "When Constructing a function, what you, the developer, need to know are:\n",
    " 1. Input (Arguments in functions)\n",
    " 2. Process (What this function do)\n",
    " 3. Output(What this function output)\n",
    " \n",
    "In short, `IPO` for making a function."
   ]
  },
  {
   "cell_type": "code",
   "execution_count": 22,
   "metadata": {},
   "outputs": [
    {
     "name": "stdout",
     "output_type": "stream",
     "text": [
      "8\n",
      "9\n"
     ]
    }
   ],
   "source": [
    "#collapse-hide\n",
    "# Make a power calculator with function\n",
    "def power(base_num, pow_num):\n",
    "    \"\"\"\n",
    "    Calculate the power of base_num\n",
    "    Args:\n",
    "        base_num(Int) -> Base number for calculation\n",
    "        pow_num(Int) -> Power number for calculation\n",
    "    Return:\n",
    "        power_num(Int) -> Power number for calculation \n",
    "    \"\"\"\n",
    "    \n",
    "    return base_num ** pow_num\n",
    "\n",
    "\n",
    "# We could directly print out the value\n",
    "print(power(2, 3))\n",
    "\n",
    "# Or we could assign that value to a varible and print.\n",
    "output = power(3, 2)\n",
    "print(output)"
   ]
  },
  {
   "cell_type": "markdown",
   "metadata": {},
   "source": [
    "In the above function, we have the `Process` of `Calculate the Power of base_num`,<br>\n",
    "`Input` of `base_num` and `pow_num` as **Int**, and `Output` of `power_num` as **Int**.\n",
    "![](images/function.png)"
   ]
  },
  {
   "cell_type": "markdown",
   "metadata": {},
   "source": [
    "# Classes\n",
    "\n",
    "Classes are the main building blocks in Object Oriented Programming (OOP). OOP is one of the hardest parts for beginners when they are first starting to learn Python. But we will get you through OOP in the following section. So, let's start."
   ]
  },
  {
   "cell_type": "markdown",
   "metadata": {},
   "source": [
    "![](animations/OOP.gif)"
   ]
  },
  {
   "cell_type": "markdown",
   "metadata": {},
   "source": [
    "## Intro to OOP\n",
    "\n",
    "Let's start the lesson by remembering about the Basic Python Objects. For example:\n",
    "\n",
    "```python\n",
    "lst = [0, 1, 2, 3]\n",
    "```\n",
    "When we print out the type of that *lst*\n",
    "```python\n",
    "print(type(lst))\n",
    "```\n",
    "```\n",
    "<class 'list'>\n",
    "```\n",
    "This is the built-in `Class` of `list`.<br>\n",
    "And we can call **methods** on that list with\n",
    "```python\n",
    "lst.append(2)\n",
    "lst\n",
    "```\n",
    "```\n",
    "[0, 1, 2, 3, 2]\n",
    "```\n",
    "Here, *append* is the method that the `<class 'list'>` has."
   ]
  },
  {
   "cell_type": "markdown",
   "metadata": {},
   "source": [
    "### Objects\n",
    "\n",
    "Everything in Python is an object. We can use type() to check the type of object:"
   ]
  },
  {
   "cell_type": "code",
   "execution_count": 5,
   "metadata": {},
   "outputs": [
    {
     "name": "stdout",
     "output_type": "stream",
     "text": [
      "<class 'int'>\n",
      "<class 'list'>\n",
      "<class 'tuple'>\n",
      "<class 'dict'>\n"
     ]
    }
   ],
   "source": [
    "#collapse-hide\n",
    "print(type(1))\n",
    "print(type([]))\n",
    "print(type(()))\n",
    "print(type({}))"
   ]
  },
  {
   "cell_type": "markdown",
   "metadata": {},
   "source": [
    "So we know all these things are objects, so how can we create our own Object types? That is where the `class` keyword comes in."
   ]
  },
  {
   "cell_type": "markdown",
   "metadata": {},
   "source": [
    "## Class and Attributes\n",
    "\n",
    "### class\n",
    "\n",
    "User defined objects are created using the `class` keyword. The **class** is a blueprint that defines the nature of a future object. From classes we can construct instances. An instance is a specific object created from a particular class. For example:\n",
    "```python\n",
    "t = (1, 2, 3)\n",
    "```\n",
    "We created the object *t* which was an instance of a tuple object.\n",
    "\n",
    "Now, Let's try a step up and create our own class.\n",
    "```python\n",
    "# Construct a new object type called Student\n",
    "class Student:\n",
    "    pass\n",
    "\n",
    "# Instance of the class Student\n",
    "x = Student()\n",
    "\n",
    "print(type(x))\n",
    "```\n",
    "```\n",
    "<class '__main__.Student'>\n",
    "```"
   ]
  },
  {
   "cell_type": "markdown",
   "metadata": {},
   "source": [
    "Most of the programmers give classes a name that starts with a capital letter by convention. Note how **x** is now the instance of a Student class. In other words, we instantiate the Student class.\n",
    "\n",
    "At the inside of the class we currently just have `pass` keyword. But we can define class attributes and methods.\n",
    "\n",
    "> An **attribute** is a characteristic of an object.<br>A **method** is an operation we can perform with the object.\n",
    "\n",
    "For example, we can create a class called Dog. An attribute of a dog may be its breed or its name, while a method of a dog may be defined by a .bark() method which returns a sound."
   ]
  },
  {
   "cell_type": "markdown",
   "metadata": {},
   "source": [
    "### Attributes\n",
    "\n",
    "The syntax for creating an attribute is:\n",
    "```\n",
    "self.attribute = something\n",
    "```\n",
    "There is a special method called:\n",
    "```\n",
    "__init__()\n",
    "```\n",
    "This method is used to initialize the attributes of an object. For example:\n",
    "```python\n",
    "class Student:\n",
    "    def __init__(self, name):\n",
    "        self.name = name\n",
    "    \n",
    "a = Student(name = 'Aung Paing')\n",
    "b = Student(name = 'Soe Pyae Phyo')\n",
    "```\n",
    "\n",
    "Let's break down what we have above. The special method\n",
    "```\n",
    "__init__()\n",
    "```\n",
    "is called automatically right after the object has been created.\n",
    "```\n",
    "def __init__(self, name):\n",
    "```\n",
    "Each attribute in a class definition begins with a reference to the instance object. It is by convention named self. The *name* is the argument. The value is passed during the class instantiation.\n",
    "```\n",
    "self.name = name\n",
    "```\n",
    "> Note: `self.name` can be given any desire variable names; no need to be `name`. For example, `self.student_name = name`\n",
    "\n",
    "Now we have created two instances of the Student class. With two different names, we can then use these attributes like this:"
   ]
  },
  {
   "cell_type": "markdown",
   "metadata": {},
   "source": [
    "```python\n",
    "a.name\n",
    "```\n",
    "```\n",
    "'Aung Aung'\n",
    "```\n",
    "```python\n",
    "b.name\n",
    "```\n",
    "```\n",
    "'Soe Soe'\n",
    "```\n",
    "\n",
    "Note how we don't have any parentheses after name; this is because it is an *attribute* and doesn't take any arguments.\n",
    "\n",
    "Lets add more *attributes* to our **Student** class."
   ]
  },
  {
   "cell_type": "code",
   "execution_count": 6,
   "metadata": {},
   "outputs": [
    {
     "name": "stdout",
     "output_type": "stream",
     "text": [
      "\n",
      "Student a Data :\n",
      "Myo Myo\n",
      "EC\n",
      "3\n",
      "24\n",
      "True\n"
     ]
    }
   ],
   "source": [
    "#collapse-hide\n",
    "class Student:\n",
    "    def __init__(self, name, major, batch, age, passedlastterm):\n",
    "        self.name = name\n",
    "        self.major = major\n",
    "        self.batch = batch\n",
    "        self.age = age\n",
    "        self.passedlastterm = passedlastterm\n",
    "        \n",
    "\n",
    "student_a = Student(\"Myo Myo\", \"EC\", 3, 24, True)\n",
    "student_b = Student(\"Su Su\", \"Text\", 2, 18, False)\n",
    "\n",
    "\n",
    "print(\"\\nStudent a Data :\")\n",
    "print(student_a.name)\n",
    "print(student_a.major)\n",
    "print(student_a.batch)\n",
    "print(student_a.age)\n",
    "print(student_a.passedlastterm)"
   ]
  },
  {
   "cell_type": "markdown",
   "metadata": {},
   "source": [
    "## Methods\n",
    "\n",
    "Methods are functions defined inside the body of a class. They are used to perform operations with the attributes of our objects. Methods are a key concept of the OOP pattern. They are essential to dividing responsibilities in programming, especially in large applications.\n",
    "\n",
    "Let's go through an example of creating a Square class:"
   ]
  },
  {
   "cell_type": "code",
   "execution_count": 7,
   "metadata": {},
   "outputs": [
    {
     "name": "stdout",
     "output_type": "stream",
     "text": [
      "Length is  4\n",
      "Area is  16\n",
      "Now length is  6\n",
      "Now area is  36\n"
     ]
    }
   ],
   "source": [
    "#collapse-hide\n",
    "class Square:\n",
    "    \n",
    "    # Square gets instantiated\n",
    "    def __init__(self, length = 4):\n",
    "        self.length = length\n",
    "        self.area   = length * length\n",
    "    \n",
    "    # Resetting length\n",
    "    def setLength(self, new_length):\n",
    "        self.length = new_length\n",
    "        self.area = new_length * new_length\n",
    "        \n",
    "s = Square()\n",
    "\n",
    "print('Length is ', s.length)\n",
    "print('Area is ', s.area)\n",
    "\n",
    "s.setLength(6)\n",
    "print('Now length is ', s.length)\n",
    "print('Now area is ', s.area)"
   ]
  },
  {
   "cell_type": "markdown",
   "metadata": {},
   "source": [
    "In this Square class, we have defined two attributes: `self.length` and `self.area`.\n",
    "```\n",
    "def setLength(self, new_length):\n",
    "```\n",
    "is called **method** of the class, which we use to interact with the user and manipulate the class attributes. Notice how we used `self.` notation to reference attributes of the class within the method calls. \n",
    "\n",
    "Now, Let's add some methods to **Student** class."
   ]
  },
  {
   "cell_type": "code",
   "execution_count": 8,
   "metadata": {},
   "outputs": [
    {
     "name": "stdout",
     "output_type": "stream",
     "text": [
      "Student a Result\n",
      "Congrats, you can move to next term.\n"
     ]
    }
   ],
   "source": [
    "#collapse-hide\n",
    "class Student:\n",
    "    def __init__(self, name, major, batch, age, passedlastterm):\n",
    "        self.name = name\n",
    "        self.major = major\n",
    "        self.batch = batch\n",
    "        self.age = age\n",
    "        self.passedlastterm = passedlastterm\n",
    "        \n",
    "    def print_result(self):\n",
    "        if self.passedlastterm:\n",
    "            print(\"Congrats, you can move to next term.\")\n",
    "        else:\n",
    "            print(\"Sorry, you need to retake the exam.\")\n",
    "\n",
    "            \n",
    "student_a = Student(\"Myo Myo\", \"EC\", 3, 24, True)\n",
    "print(\"Student a Result\")\n",
    "student_a.print_result()"
   ]
  },
  {
   "cell_type": "markdown",
   "metadata": {},
   "source": [
    "## Inheritance\n",
    "\n",
    "Inheritance is a way to form new classes using classes that have already been defined. The newly formed classes are called derived classes, the classes that we derive from are called base classes. Important benefits of inheritance are code reuse and reduction of complexity of a program. The derived classes override or extend the functionality of base classes.\n",
    "\n",
    "Let's use our **Student** class again.\n",
    "\n",
    "```python\n",
    "# Inheritance and not change anything.\n",
    "class ExchangeStudent(Student):\n",
    "    pass\n",
    "```"
   ]
  },
  {
   "cell_type": "markdown",
   "metadata": {},
   "source": [
    "In this example, we have two classes: **Student** and **ExchangeStudent**. The Student is the base class, the ExchangeStudent is the derived class.\n",
    "\n",
    "The derived class inherits the functionality of the base class. This is shown in the example below.\n",
    "\n",
    "```python\n",
    "# ExchangeStudent should have all properties and methods Student has.\n",
    "student_ex = ExchangeStudent(\"Htet Htet\", \"Civil\", 1, 25, True)\n",
    "\n",
    "print(\"\\nStudent ex Result\")\n",
    "student_ex.print_result()\n",
    "```\n",
    "```\n",
    "Student ex Result\n",
    "Congrats, you can move to next term.\n",
    "```"
   ]
  },
  {
   "cell_type": "markdown",
   "metadata": {},
   "source": [
    "## Further Resources\n",
    "\n",
    "If you want to learn more about Object Oriented Programming (OOP) in more details, please visit to official Python [documentation](https://docs.python.org/3/tutorial/classes.html#a-first-look-at-classes). You can also check [this](https://realpython.com/python3-object-oriented-programming/) blog post about OOP."
   ]
  },
  {
   "cell_type": "markdown",
   "metadata": {},
   "source": [
    "<div>Icons made by <a href=\"https://www.flaticon.com/authors/freepik\" title=\"Freepik\">Freepik</a> from <a href=\"https://www.flaticon.com/\" title=\"Flaticon\">www.flaticon.com</a></div>"
   ]
  }
 ],
 "metadata": {
  "kernelspec": {
   "display_name": "Python 3",
   "language": "python",
   "name": "python3"
  },
  "language_info": {
   "codemirror_mode": {
    "name": "ipython",
    "version": 3
   },
   "file_extension": ".py",
   "mimetype": "text/x-python",
   "name": "python",
   "nbconvert_exporter": "python",
   "pygments_lexer": "ipython3",
   "version": "3.8.5"
  }
 },
 "nbformat": 4,
 "nbformat_minor": 4
}
