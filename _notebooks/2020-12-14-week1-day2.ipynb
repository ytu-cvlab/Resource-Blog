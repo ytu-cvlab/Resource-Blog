{
 "cells": [
  {
   "cell_type": "markdown",
   "metadata": {},
   "source": [
    "# Week 1, Day 2 (Python for Data Science)\n",
    "> Welcome to second day (Week 1) of the McE-51069 course. We will introduce the basics of Python programming language and share you necessary lectures and assignment notebooks.\n",
    "\n",
    "- sticky_rank: 2\n",
    "- toc: true\n",
    "- badges: false\n",
    "- comments: false\n",
    "- categories: [python]"
   ]
  },
  {
   "cell_type": "markdown",
   "metadata": {},
   "source": [
    "## Notebooks and Assignments\n",
    "\n",
    "Please download all the lectures and assignment notebooks of week 1 (Day 2) [here](https://github.com/ytu-cvlab/mce-51069-week1-day2/archive/main.zip).\n",
    "We have also posted a [guide video](https://www.youtube.com/watch?v=hIaURCPvCf4) on downloading & accessing materials on our [youtube channel](https://www.youtube.com/channel/UCDFhKEbfpxKXVk4Mryh7yhA)."
   ]
  },
  {
   "cell_type": "markdown",
   "metadata": {},
   "source": [
    "## Learning Tips\n",
    "\n",
    "> We Strongly recommand learning with playing.<br>\n",
    "We provide notebooks for students to get started.<br>\n",
    "If you get trouble with learning, please feel free to reach out to us on [facebook](https://www.facebook.com/groups/467439787576222) and [email](cvml.ytumc@gmail.com)."
   ]
  },
  {
   "cell_type": "markdown",
   "metadata": {},
   "source": [
    "# Data Types\n",
    "\n",
    "In python, there are built-in data-types, some of which are described below:\n",
    "\n",
    " 1. Int (1 ,100, 99)\n",
    " 2. Float (1.0, 3.14, 2.718)\n",
    " 3. String (\"Myanmar\", \"Burma\")\n",
    " 4. Boolean (True, False)\n",
    " 5. Complex (1+0j)\n",
    " 6. null (None)\n",
    " \n",
    "To describe the various properties in the real world, we must use different data types.\n",
    "\n",
    "e.g., if we want to describe a person's `name`, we could use `String`.<br>\n",
    "<br>`Int` for his/her *age*, <br>`Float` for his/her *height* in (cm) and <br>`Boolean` if he/she is *graduated* or not.\n",
    "\n",
    ">The main take away from this lecture notebook is to know the differences between data types and their usage."
   ]
  },
  {
   "cell_type": "markdown",
   "metadata": {},
   "source": [
    "## Four Most Used Data Types\n",
    "\n",
    "We can store data of different types in variable names. See the example below:\n",
    "```python\n",
    "# Int\n",
    "int1 = 5\n",
    "int2 = 3\n",
    "\n",
    "# Float\n",
    "float1 = 1.\n",
    "float2 = 3.14\n",
    "\n",
    "# String\n",
    "string1 = \"Hello\"\n",
    "string2 = 'World'\n",
    "\n",
    "# Boolean\n",
    "bool1 = True\n",
    "bool2 = False\n",
    "```\n",
    "`print` function is used to print the values of the variable to the output screen.\n",
    "```python\n",
    "print(int1)\n",
    "```\n",
    "```\n",
    "5\n",
    "```\n",
    "We can check the datatype of the variable by using `type` function:\n",
    "```python\n",
    "type(int1)\n",
    "```\n",
    "```\n",
    "int\n",
    "```"
   ]
  },
  {
   "cell_type": "markdown",
   "metadata": {},
   "source": [
    "## Arithmetic Operations on Number Data Types\n",
    "\n",
    "We could do arithmetic operations on Number Data Types (Int and Float) as shown below:"
   ]
  },
  {
   "cell_type": "code",
   "execution_count": 1,
   "metadata": {
    "collapsed": true,
    "jupyter": {
     "outputs_hidden": true
    }
   },
   "outputs": [
    {
     "name": "stdout",
     "output_type": "stream",
     "text": [
      "8\n",
      "2\n",
      "15\n",
      "1.6666666666666667\n",
      "2\n",
      "125\n",
      "\n",
      "4.140000000000001\n",
      "-2.14\n",
      "3.14\n",
      "0.3184713375796178\n",
      "1.0\n",
      "1.0\n"
     ]
    }
   ],
   "source": [
    "#collapse-hide\n",
    "int1 = 5\n",
    "int2 = 3\n",
    "\n",
    "# We can add, subtract two elements of 'Int' dtype.\n",
    "print(int1 + int2) # Addition\n",
    "print(int1 - int2) # Subtraction\n",
    "print(int1 * int2) # Multiplication\n",
    "print(int1 / int2) # Division\n",
    "print(int1 % int2) # Remainder\n",
    "print(int1**int2) # Power\n",
    "print(\"\")\n",
    "\n",
    "float1 = 1.\n",
    "float2 = 3.14\n",
    "# We can also, do operations on `Float` dtype.\n",
    "print(float1 + float2)\n",
    "print(float1 - float2)\n",
    "print(float1 * float2)\n",
    "print(float1 / float2)\n",
    "print(float1 % float2)\n",
    "print(float1**float2)"
   ]
  },
  {
   "cell_type": "markdown",
   "metadata": {},
   "source": [
    "## String Operations\n",
    "\n",
    "We can use `'+'` operator to *concatenate* two strings.\n",
    "```python\n",
    "# Simple concatenation of two strings\n",
    "\n",
    "concatenate_string = string1 + string2\n",
    "print(concatenate_string)\n",
    "```\n",
    "```\n",
    "HelloWorld\n",
    "```\n",
    "\n",
    "We can also use `f-Strings` method for better formating of string.\n",
    "\n",
    "In `f-Strings` method, we can insert variables in the string format."
   ]
  },
  {
   "cell_type": "code",
   "execution_count": 1,
   "metadata": {},
   "outputs": [
    {
     "name": "stdout",
     "output_type": "stream",
     "text": [
      "Hello World, welcome to the wonderland\n",
      "Hello World, This is testing the f-Strings\n"
     ]
    }
   ],
   "source": [
    "#collapse-hide\n",
    "# f-Strings method.\n",
    "f_string = f\"Hello World, welcome to the wonderland\"\n",
    "print(f_string)\n",
    "\n",
    "string1 = \"Hello\"\n",
    "string2 = \"World\"\n",
    "f_string_var = f\"{string1} {string2}, This is testing the f-Strings\"\n",
    "print(f_string_var)"
   ]
  },
  {
   "cell_type": "markdown",
   "metadata": {},
   "source": [
    "> Important: One thing to be aware of in Python, we can not add two variables of different data types.\n",
    "\n",
    "In the example described below, we try to add `Int` and `String` data types, which is not possible."
   ]
  },
  {
   "cell_type": "code",
   "execution_count": 22,
   "metadata": {},
   "outputs": [
    {
     "ename": "TypeError",
     "evalue": "can only concatenate str (not \"int\") to str",
     "output_type": "error",
     "traceback": [
      "\u001b[0;31m---------------------------------------------------------------------------\u001b[0m",
      "\u001b[0;31mTypeError\u001b[0m                                 Traceback (most recent call last)",
      "\u001b[0;32m<ipython-input-22-7f4a263b8c2b>\u001b[0m in \u001b[0;36m<module>\u001b[0;34m\u001b[0m\n\u001b[1;32m      2\u001b[0m \u001b[0mvar_b\u001b[0m \u001b[0;34m=\u001b[0m \u001b[0;36m5\u001b[0m\u001b[0;34m\u001b[0m\u001b[0;34m\u001b[0m\u001b[0m\n\u001b[1;32m      3\u001b[0m \u001b[0;34m\u001b[0m\u001b[0m\n\u001b[0;32m----> 4\u001b[0;31m \u001b[0mprint\u001b[0m\u001b[0;34m(\u001b[0m\u001b[0mvar_a\u001b[0m \u001b[0;34m+\u001b[0m \u001b[0mvar_b\u001b[0m\u001b[0;34m)\u001b[0m\u001b[0;34m\u001b[0m\u001b[0;34m\u001b[0m\u001b[0m\n\u001b[0m",
      "\u001b[0;31mTypeError\u001b[0m: can only concatenate str (not \"int\") to str"
     ]
    }
   ],
   "source": [
    "#collapse-hide\n",
    "var_a = \"Hello\"\n",
    "var_b = 5\n",
    "\n",
    "print(var_a + var_b)"
   ]
  },
  {
   "cell_type": "code",
   "execution_count": 23,
   "metadata": {},
   "outputs": [
    {
     "ename": "ValueError",
     "evalue": "invalid literal for int() with base 10: 'Hello'",
     "output_type": "error",
     "traceback": [
      "\u001b[0;31m---------------------------------------------------------------------------\u001b[0m",
      "\u001b[0;31mValueError\u001b[0m                                Traceback (most recent call last)",
      "\u001b[0;32m<ipython-input-23-c93ae652aa67>\u001b[0m in \u001b[0;36m<module>\u001b[0;34m\u001b[0m\n\u001b[1;32m      1\u001b[0m \u001b[0;31m# Or this\u001b[0m\u001b[0;34m\u001b[0m\u001b[0;34m\u001b[0m\u001b[0;34m\u001b[0m\u001b[0m\n\u001b[0;32m----> 2\u001b[0;31m \u001b[0mprint\u001b[0m\u001b[0;34m(\u001b[0m\u001b[0mint\u001b[0m\u001b[0;34m(\u001b[0m\u001b[0mvar_a\u001b[0m\u001b[0;34m)\u001b[0m \u001b[0;34m+\u001b[0m \u001b[0mvar_b\u001b[0m\u001b[0;34m)\u001b[0m\u001b[0;34m\u001b[0m\u001b[0;34m\u001b[0m\u001b[0m\n\u001b[0m",
      "\u001b[0;31mValueError\u001b[0m: invalid literal for int() with base 10: 'Hello'"
     ]
    }
   ],
   "source": [
    "#collapse-hide\n",
    "# Or this\n",
    "print(int(var_a) + var_b)"
   ]
  },
  {
   "cell_type": "markdown",
   "metadata": {},
   "source": [
    "When converting `String` to `Int`, if the value in that `String` is `Int`, then we can do addition."
   ]
  },
  {
   "cell_type": "code",
   "execution_count": 2,
   "metadata": {},
   "outputs": [
    {
     "name": "stdout",
     "output_type": "stream",
     "text": [
      "10\n"
     ]
    }
   ],
   "source": [
    "#collapse-hide\n",
    "# we could, for example\n",
    "var_a = \"5\"\n",
    "var_b = 5\n",
    "\n",
    "print(int(var_a) + var_b)"
   ]
  },
  {
   "cell_type": "markdown",
   "metadata": {},
   "source": [
    "## Boolean Operation\n",
    "\n",
    "Boolean includes only two values, `True` and `False`.<br>\n",
    "> Note: The capital letter and small letter must be correctly spelled.<br>eg. `true` will not work.\n",
    "\n",
    "Boolean variables are often used in conditional operations, such as `if` and `while`."
   ]
  },
  {
   "cell_type": "code",
   "execution_count": 3,
   "metadata": {},
   "outputs": [
    {
     "name": "stdout",
     "output_type": "stream",
     "text": [
      "bool1 variable is True\n"
     ]
    }
   ],
   "source": [
    "#collapse-hide\n",
    "bool1 = True\n",
    "bool2 = False\n",
    "\n",
    "# Check if a varible is True\n",
    "if bool1:\n",
    "    print(\"bool1 variable is True\")\n",
    "\n",
    "# This print statement is not working\n",
    "# because bool2 is not True\n",
    "if bool2:\n",
    "    print(\"bool2 variable is True\")"
   ]
  },
  {
   "cell_type": "code",
   "execution_count": 4,
   "metadata": {},
   "outputs": [
    {
     "name": "stdout",
     "output_type": "stream",
     "text": [
      "bool2 variable is False\n"
     ]
    }
   ],
   "source": [
    "#collapse-hide\n",
    "# Check if a variable is False (not True)\n",
    "\n",
    "if not bool1:\n",
    "    print(\"bool1 variable is False\")\n",
    "\n",
    "if not bool2:\n",
    "    print(\"bool2 variable is False\")"
   ]
  },
  {
   "cell_type": "code",
   "execution_count": 21,
   "metadata": {},
   "outputs": [
    {
     "name": "stdout",
     "output_type": "stream",
     "text": [
      "At least one variable is True\n"
     ]
    }
   ],
   "source": [
    "#collapse-hide\n",
    "# We could use AND, OR operation too.\n",
    "\n",
    "if bool1 and bool2:\n",
    "    print(\"Both Variables are True\")\n",
    "    \n",
    "if bool1 or bool2:\n",
    "    print(\"At least one variable is True\")"
   ]
  },
  {
   "cell_type": "markdown",
   "metadata": {},
   "source": [
    "## Further Resources for Data Types"
   ]
  },
  {
   "cell_type": "markdown",
   "metadata": {},
   "source": [
    "If you want to learn more about data types and their operations in more details, please visit to official Python [documentation](https://docs.python.org/3/tutorial/introduction.html#numbers). You can also learn more about it in this blog post about [Basic Data Types in Python](https://realpython.com/python-data-types/)."
   ]
  },
  {
   "cell_type": "markdown",
   "metadata": {},
   "source": [
    "# Data Structures\n",
    "\n",
    "Python Data Structures are used to store and collect data. \n",
    "There are four basic built-in data structures in Python.\n",
    "\n",
    "```python\n",
    "# Simple Creation of each four types of structures\n",
    "\n",
    "list_obj = [1, 2, 3, 4, 1, 2, 3, 4]\n",
    "set_obj = {1, 2, 3, 4, 1, 2, 3, 4}\n",
    "tuple_obj = (1, 2, 3, 4, 1, 2, 3, 4)\n",
    "dict_obj = {'a':1, 'b':2, 'c':3, 'd':4, 'e':1, 'f':2}\n",
    "```"
   ]
  },
  {
   "cell_type": "code",
   "execution_count": 14,
   "metadata": {},
   "outputs": [
    {
     "name": "stdout",
     "output_type": "stream",
     "text": [
      "<class 'list'> [1, 2, 3, 4, 1, 2, 3, 4]\n",
      "<class 'set'> {1, 2, 3, 4}\n",
      "<class 'tuple'> (1, 2, 3, 4, 1, 2, 3, 4)\n",
      "<class 'dict'> {'a': 1, 'b': 2, 'c': 3, 'd': 4, 'e': 1, 'f': 2}\n"
     ]
    }
   ],
   "source": [
    "#collapse-hide\n",
    "print(type(list_obj), list_obj)\n",
    "print(type(set_obj), set_obj)\n",
    "print(type(tuple_obj), tuple_obj)\n",
    "print(type(dict_obj), dict_obj)"
   ]
  },
  {
   "cell_type": "markdown",
   "metadata": {},
   "source": [
    "## List\n",
    "\n",
    "The Most commonly used data structure in Python, `List`, has the following properties :\n",
    " 1. Element are accessable with order\n",
    " 2. Mutable (variable values can be changed)\n",
    "\n",
    "```python\n",
    "list_height = [170, 172, 174, 160, 178]\n",
    "\n",
    "print(\"Heights of student in class...\")\n",
    "print(list_height)\n",
    "```\n",
    "```\n",
    "Heights of student in class...\n",
    "[170, 172, 174, 160, 178]\n",
    "```"
   ]
  },
  {
   "cell_type": "markdown",
   "metadata": {},
   "source": [
    "### Access with Index\n",
    "\n",
    "![](animations/indexing.gif)\n",
    "\n",
    "> Note: If we access element that is out of range, it will rasie `IndexError` as follows"
   ]
  },
  {
   "cell_type": "code",
   "execution_count": 4,
   "metadata": {},
   "outputs": [
    {
     "name": "stdout",
     "output_type": "stream",
     "text": [
      "Student A height :  170\n",
      "Student B height :  172\n",
      "Student A height :  174\n",
      "Student B height :  160\n",
      "Student A height :  178\n"
     ]
    },
    {
     "ename": "IndexError",
     "evalue": "list index out of range",
     "output_type": "error",
     "traceback": [
      "\u001b[0;31m---------------------------------------------------------------------------\u001b[0m",
      "\u001b[0;31mIndexError\u001b[0m                                Traceback (most recent call last)",
      "\u001b[0;32m<ipython-input-4-d5a3a372c0b9>\u001b[0m in \u001b[0;36m<module>\u001b[0;34m\u001b[0m\n\u001b[1;32m      4\u001b[0m \u001b[0mprint\u001b[0m\u001b[0;34m(\u001b[0m\u001b[0;34m\"Student B height : \"\u001b[0m\u001b[0;34m,\u001b[0m \u001b[0mlist_height\u001b[0m\u001b[0;34m[\u001b[0m\u001b[0;36m3\u001b[0m\u001b[0;34m]\u001b[0m\u001b[0;34m)\u001b[0m\u001b[0;34m\u001b[0m\u001b[0;34m\u001b[0m\u001b[0m\n\u001b[1;32m      5\u001b[0m \u001b[0mprint\u001b[0m\u001b[0;34m(\u001b[0m\u001b[0;34m\"Student A height : \"\u001b[0m\u001b[0;34m,\u001b[0m \u001b[0mlist_height\u001b[0m\u001b[0;34m[\u001b[0m\u001b[0;36m4\u001b[0m\u001b[0;34m]\u001b[0m\u001b[0;34m)\u001b[0m\u001b[0;34m\u001b[0m\u001b[0;34m\u001b[0m\u001b[0m\n\u001b[0;32m----> 6\u001b[0;31m \u001b[0mprint\u001b[0m\u001b[0;34m(\u001b[0m\u001b[0;34m\"Student B height : \"\u001b[0m\u001b[0;34m,\u001b[0m \u001b[0mlist_height\u001b[0m\u001b[0;34m[\u001b[0m\u001b[0;36m5\u001b[0m\u001b[0;34m]\u001b[0m\u001b[0;34m)\u001b[0m\u001b[0;34m\u001b[0m\u001b[0;34m\u001b[0m\u001b[0m\n\u001b[0m",
      "\u001b[0;31mIndexError\u001b[0m: list index out of range"
     ]
    }
   ],
   "source": [
    "#collapse-hide\n",
    "print(\"Student A height : \", list_height[0])\n",
    "print(\"Student B height : \", list_height[1])\n",
    "print(\"Student A height : \", list_height[2])\n",
    "print(\"Student B height : \", list_height[3])\n",
    "print(\"Student A height : \", list_height[4])\n",
    "print(\"Student B height : \", list_height[5])"
   ]
  },
  {
   "cell_type": "markdown",
   "metadata": {},
   "source": [
    "```IndexError: list index out of range.```<br>\n",
    "Because there are only 5 elements in list, ```list_height[5]``` request for 6th element, which is out of range."
   ]
  },
  {
   "cell_type": "markdown",
   "metadata": {},
   "source": [
    "### Access with Iteration(For Loop)"
   ]
  },
  {
   "cell_type": "code",
   "execution_count": 2,
   "metadata": {},
   "outputs": [
    {
     "name": "stdout",
     "output_type": "stream",
     "text": [
      "170,172,174,160,178,\n",
      "There are 5 students in the class\n"
     ]
    }
   ],
   "source": [
    "#collapse-hide\n",
    "num_student = 0\n",
    "\n",
    "for height in list_height:\n",
    "    num_student += 1\n",
    "    print(height, end = ',')\n",
    "    \n",
    "print(f\"\\nThere are {num_student} students in the class\")"
   ]
  },
  {
   "cell_type": "code",
   "execution_count": 3,
   "metadata": {},
   "outputs": [
    {
     "name": "stdout",
     "output_type": "stream",
     "text": [
      "Studnet height : 170 cm 5.58 feet\n",
      "Studnet height : 172 cm 5.64 feet\n",
      "Studnet height : 174 cm 5.71 feet\n",
      "Studnet height : 160 cm 5.25 feet\n",
      "Studnet height : 178 cm 5.84 feet\n"
     ]
    }
   ],
   "source": [
    "#collapse-hide\n",
    "'''\n",
    "Simple Program:\n",
    "Convert height information in \"cm\" to \"feet\"\n",
    "'''\n",
    "\n",
    "# Convert cm to feet\n",
    "for height_cm in list_height:\n",
    "    height_feet = height_cm * 0.0328  # cm to feet equation\n",
    "    print(f\"Studnet height : {height_cm} cm {height_feet:.2f} feet\")"
   ]
  },
  {
   "cell_type": "markdown",
   "metadata": {},
   "source": [
    "### List with different Datatype\n",
    "\n",
    "We can store, not just one datatype, but variables with different data types in a list. "
   ]
  },
  {
   "cell_type": "code",
   "execution_count": 4,
   "metadata": {},
   "outputs": [
    {
     "name": "stdout",
     "output_type": "stream",
     "text": [
      "Student A Info :  ['Aung Aung', 'McE', 3, 6]\n",
      "Student B Info :  ['Soe Pyae', 'Civil', 3, 6]\n"
     ]
    }
   ],
   "source": [
    "#collapse-hide\n",
    "student_A = [\"Aung Aung\", \"McE\", 3, 6]\n",
    "student_B = [\"Soe Pyae\", \"Civil\", 3, 6]\n",
    "\n",
    "print(\"Student A Info : \", student_A)\n",
    "print(\"Student B Info : \", student_B)"
   ]
  },
  {
   "cell_type": "code",
   "execution_count": 5,
   "metadata": {},
   "outputs": [
    {
     "name": "stdout",
     "output_type": "stream",
     "text": [
      "9\n",
      "Aung AungMcE\n"
     ]
    },
    {
     "ename": "TypeError",
     "evalue": "can only concatenate str (not \"int\") to str",
     "output_type": "error",
     "traceback": [
      "\u001b[1;31m---------------------------------------------------------------------------\u001b[0m",
      "\u001b[1;31mTypeError\u001b[0m                                 Traceback (most recent call last)",
      "\u001b[1;32m<ipython-input-5-b71be46f223e>\u001b[0m in \u001b[0;36m<module>\u001b[1;34m\u001b[0m\n\u001b[0;32m      2\u001b[0m \u001b[0mprint\u001b[0m\u001b[1;33m(\u001b[0m\u001b[0mstudent_A\u001b[0m\u001b[1;33m[\u001b[0m\u001b[1;36m2\u001b[0m\u001b[1;33m]\u001b[0m \u001b[1;33m+\u001b[0m \u001b[0mstudent_A\u001b[0m\u001b[1;33m[\u001b[0m\u001b[1;36m3\u001b[0m\u001b[1;33m]\u001b[0m\u001b[1;33m)\u001b[0m\u001b[1;33m\u001b[0m\u001b[1;33m\u001b[0m\u001b[0m\n\u001b[0;32m      3\u001b[0m \u001b[0mprint\u001b[0m\u001b[1;33m(\u001b[0m\u001b[0mstudent_A\u001b[0m\u001b[1;33m[\u001b[0m\u001b[1;36m0\u001b[0m\u001b[1;33m]\u001b[0m \u001b[1;33m+\u001b[0m \u001b[0mstudent_A\u001b[0m\u001b[1;33m[\u001b[0m\u001b[1;36m1\u001b[0m\u001b[1;33m]\u001b[0m\u001b[1;33m)\u001b[0m\u001b[1;33m\u001b[0m\u001b[1;33m\u001b[0m\u001b[0m\n\u001b[1;32m----> 4\u001b[1;33m \u001b[0mprint\u001b[0m\u001b[1;33m(\u001b[0m\u001b[0mstudent_A\u001b[0m\u001b[1;33m[\u001b[0m\u001b[1;36m1\u001b[0m\u001b[1;33m]\u001b[0m \u001b[1;33m+\u001b[0m \u001b[0mstudent_A\u001b[0m\u001b[1;33m[\u001b[0m\u001b[1;36m2\u001b[0m\u001b[1;33m]\u001b[0m\u001b[1;33m)\u001b[0m\u001b[1;33m\u001b[0m\u001b[1;33m\u001b[0m\u001b[0m\n\u001b[0m",
      "\u001b[1;31mTypeError\u001b[0m: can only concatenate str (not \"int\") to str"
     ]
    }
   ],
   "source": [
    "#collapse-hide\n",
    "# But Be Aware, We do not know which element contain what information..\n",
    "print(student_A[2] + student_A[3])\n",
    "print(student_A[0] + student_A[1])\n",
    "print(student_A[1] + student_A[2])"
   ]
  },
  {
   "cell_type": "markdown",
   "metadata": {},
   "source": [
    "```TypeError :can only concatenate str to str | int to int```<br><br>\n",
    "This often happen in `List` when we try to store different data type into one list.<br>\n",
    "It is hard to get exact index for each element.<br>\n",
    "For that, in python, we use `Dictionary` to store key-value paired information."
   ]
  },
  {
   "cell_type": "markdown",
   "metadata": {},
   "source": [
    "## Dictionary\n",
    "\n",
    "When we walk into a library to find books, we search the book by its title, author or published year.<br>\n",
    "Python use the same idea to store value for the varible, by creating the key for that value.<br>\n",
    "Thus `Dictionary` in python is key-value paired data structure."
   ]
  },
  {
   "cell_type": "code",
   "execution_count": 15,
   "metadata": {},
   "outputs": [
    {
     "name": "stdout",
     "output_type": "stream",
     "text": [
      "['Aung_Paing', 'McE', 3, 6]\n",
      "{'Name': 'Aung_Paing', 'Major': 'McE', 'Batch': 3, 'Year': 6}\n"
     ]
    }
   ],
   "source": [
    "#collapse-hide\n",
    "# List\n",
    "student_A_list = [\"Aung_Paing\", \"McE\", 3, 6]\n",
    "student_B_list = [\"Soe_Pyae\", \"Civil\", 3, 6]\n",
    "\n",
    "\n",
    "# Dictionary\n",
    "student_A_dict = {\"Name\" : \"Aung_Paing\",\n",
    "                 \"Major\" : \"McE\",\n",
    "                 \"Batch\" : 3,\n",
    "                 \"Year\" : 6}\n",
    "\n",
    "student_B_dict = {\"Name\" : \"Soe_Pyae\",\n",
    "                 \"Major\" : \"Civil\",\n",
    "                 \"Batch\" : 3,\n",
    "                 \"Year\" : 6}\n",
    "\n",
    "\n",
    "print(student_A_list)\n",
    "print(student_A_dict)"
   ]
  },
  {
   "cell_type": "code",
   "execution_count": 18,
   "metadata": {},
   "outputs": [
    {
     "name": "stdout",
     "output_type": "stream",
     "text": [
      "Aung_Paing\n",
      "Name :  Aung_Paing\n",
      "Major :  McE\n",
      "Batch :  3\n",
      "Year :  6\n"
     ]
    }
   ],
   "source": [
    "#collapse-hide\n",
    "# If we want to get \"Name\" info for student_A\n",
    "name_student_A = student_A[0]\n",
    "print(name_student_A)\n",
    "print()\n",
    "\n",
    "# But in dict, we just need to specified it. We do not need to remember the index of that info.\n",
    "print(\"Name : \", student_A_dict[\"Name\"])\n",
    "print(\"Major : \", student_A_dict[\"Major\"])\n",
    "print(\"Batch : \", student_A_dict[\"Batch\"])\n",
    "print(\"Year : \", student_A_dict[\"Year\"])"
   ]
  },
  {
   "cell_type": "markdown",
   "metadata": {},
   "source": [
    "## Tuple\n",
    "\n",
    "Sometimes, we need **immutable** data.<br>\n",
    "For example, *Coordinate* of a location, your *Birthday*, your significant other's *Phone Number* or may be even your *gene code*.<br>\n",
    "The data that we want to access but must be changed are stored with `Tuple`."
   ]
  },
  {
   "cell_type": "code",
   "execution_count": 9,
   "metadata": {},
   "outputs": [
    {
     "name": "stdout",
     "output_type": "stream",
     "text": [
      "<class 'tuple'>\n",
      "(11, 1, 1998)\n"
     ]
    }
   ],
   "source": [
    "#collapse-hide\n",
    "home_coordinate = (123, 456)\n",
    "birthday = (11, 1, 1998)\n",
    "\n",
    "print(type(birthday))\n",
    "print(birthday)"
   ]
  },
  {
   "cell_type": "code",
   "execution_count": 11,
   "metadata": {},
   "outputs": [
    {
     "name": "stdout",
     "output_type": "stream",
     "text": [
      "1\n"
     ]
    },
    {
     "ename": "TypeError",
     "evalue": "'tuple' object does not support item assignment",
     "output_type": "error",
     "traceback": [
      "\u001b[1;31m---------------------------------------------------------------------------\u001b[0m",
      "\u001b[1;31mTypeError\u001b[0m                                 Traceback (most recent call last)",
      "\u001b[1;32m<ipython-input-11-c728f5c5b1e0>\u001b[0m in \u001b[0;36m<module>\u001b[1;34m\u001b[0m\n\u001b[0;32m      4\u001b[0m \u001b[1;33m\u001b[0m\u001b[0m\n\u001b[0;32m      5\u001b[0m \u001b[1;31m# Let's try to change the day....\u001b[0m\u001b[1;33m\u001b[0m\u001b[1;33m\u001b[0m\u001b[1;33m\u001b[0m\u001b[0m\n\u001b[1;32m----> 6\u001b[1;33m \u001b[0mbirthday\u001b[0m\u001b[1;33m[\u001b[0m\u001b[1;36m1\u001b[0m\u001b[1;33m]\u001b[0m \u001b[1;33m=\u001b[0m \u001b[1;36m10\u001b[0m\u001b[1;33m\u001b[0m\u001b[1;33m\u001b[0m\u001b[0m\n\u001b[0m",
      "\u001b[1;31mTypeError\u001b[0m: 'tuple' object does not support item assignment"
     ]
    }
   ],
   "source": [
    "#collapse-hide\n",
    "# Let's try to access the month with index...\n",
    "month = birthday[1]\n",
    "print(month)\n",
    "\n",
    "# Let's try to change the day....\n",
    "birthday[1] = 10"
   ]
  },
  {
   "cell_type": "markdown",
   "metadata": {},
   "source": [
    "Thus, we can see the data in tuples cannot be changed"
   ]
  },
  {
   "cell_type": "markdown",
   "metadata": {},
   "source": [
    "## Set\n",
    "    \n",
    "`Set` as the name suggest, is a set of collection.<br>\n",
    "Sets ignore the order and the number of elements in a collection and only store the representatives in that collection."
   ]
  },
  {
   "cell_type": "code",
   "execution_count": 23,
   "metadata": {},
   "outputs": [
    {
     "name": "stdout",
     "output_type": "stream",
     "text": [
      "<class 'set'>\n",
      "{1, 2, 3, 4}\n"
     ]
    }
   ],
   "source": [
    "#collapse-hide\n",
    "set_obj = {1, 2, 3, 1, 2, 3, 4}\n",
    "\n",
    "print(type(set_obj))\n",
    "print(set_obj)"
   ]
  },
  {
   "cell_type": "code",
   "execution_count": 25,
   "metadata": {},
   "outputs": [
    {
     "ename": "TypeError",
     "evalue": "'set' object is not subscriptable",
     "output_type": "error",
     "traceback": [
      "\u001b[0;31m---------------------------------------------------------------------------\u001b[0m",
      "\u001b[0;31mTypeError\u001b[0m                                 Traceback (most recent call last)",
      "\u001b[0;32m<ipython-input-25-c6b65031723d>\u001b[0m in \u001b[0;36m<module>\u001b[0;34m\u001b[0m\n\u001b[1;32m      1\u001b[0m \u001b[0;31m# We could not access the element in that set.\u001b[0m\u001b[0;34m\u001b[0m\u001b[0;34m\u001b[0m\u001b[0;34m\u001b[0m\u001b[0m\n\u001b[0;32m----> 2\u001b[0;31m \u001b[0mset_obj\u001b[0m\u001b[0;34m[\u001b[0m\u001b[0;36m0\u001b[0m\u001b[0;34m]\u001b[0m\u001b[0;34m\u001b[0m\u001b[0;34m\u001b[0m\u001b[0m\n\u001b[0m",
      "\u001b[0;31mTypeError\u001b[0m: 'set' object is not subscriptable"
     ]
    }
   ],
   "source": [
    "#collapse-hide\n",
    "# We cannot access the elements in the set\n",
    "set_obj[0]"
   ]
  },
  {
   "cell_type": "markdown",
   "metadata": {},
   "source": [
    "## Tips\n",
    "\n",
    "`Error`<br>\n",
    "When you encounter an **Error** in the code, try the following steps:\n",
    " 1. Stay calm & Read the error message carefully\n",
    " 2. Copy and paste the error message in google search or [stackoverflow](https://stackoverflow.com/).\n",
    " 3. Ask for help in forums if necessary.\n",
    "\n",
    "There are more than 8 million python users in the world and it is very likely that someone has encounterd the same problem as you did. So, don't hesitate to search for help.\n",
    "\n",
    "We can check the specification of the variable by:"
   ]
  },
  {
   "cell_type": "code",
   "execution_count": 30,
   "metadata": {},
   "outputs": [
    {
     "data": {
      "text/plain": [
       "\u001b[0;31mType:\u001b[0m        set\n",
       "\u001b[0;31mString form:\u001b[0m {1, 2, 3, 4}\n",
       "\u001b[0;31mLength:\u001b[0m      4\n",
       "\u001b[0;31mDocstring:\u001b[0m  \n",
       "set() -> new empty set object\n",
       "set(iterable) -> new set object\n",
       "\n",
       "Build an unordered collection of unique elements.\n"
      ]
     },
     "metadata": {},
     "output_type": "display_data"
    }
   ],
   "source": [
    "set_obj?"
   ]
  },
  {
   "cell_type": "markdown",
   "metadata": {},
   "source": [
    "## Further Resources for Data Structure\n",
    "\n",
    "If you would like to know more about Data Structure in Python. Please visit official Python [cocumentation](https://docs.python.org/3/tutorial/datastructures.html).  You can also learn more about it in this blog post about [Common Python Data Structure](https://realpython.com/python-data-structures/)"
   ]
  },
  {
   "cell_type": "markdown",
   "metadata": {},
   "source": [
    "# Conditionals & Loops in Python"
   ]
  },
  {
   "cell_type": "markdown",
   "metadata": {},
   "source": [
    "## Conditionals\n",
    "\n",
    "`if` Statements in Python allow us to tell the computer to perform alternative actions based on a certain set of results.\n",
    "\n",
    "In other words, we are telling the computer : \"Hey if this case happens, perform some action\"\n",
    "\n",
    "We can then expand the idea further with `elif` and `else` statements, which allows us to tell the computer: \"Hey if this case happens, perform some action. Else, if another case happens, perform some other action. Else, if none of the above cases happened, perform this action\"\n",
    "\n",
    "Let's go ahead and look at the syntax format for `if-else` cases to get a better idea of this:"
   ]
  },
  {
   "cell_type": "code",
   "execution_count": 1,
   "metadata": {},
   "outputs": [
    {
     "name": "stdout",
     "output_type": "stream",
     "text": [
      "The weather is fine today, I am going out.\n"
     ]
    }
   ],
   "source": [
    "#collapse-hide\n",
    "# Simple if-else case\n",
    "rain = False\n",
    "\n",
    "if not rain:\n",
    "    print(\"The weather is fine today, I am going out.\")\n",
    "else:\n",
    "    print(\"It is raining, I cannot go out...\")\n",
    "    "
   ]
  },
  {
   "cell_type": "code",
   "execution_count": 2,
   "metadata": {},
   "outputs": [
    {
     "name": "stdout",
     "output_type": "stream",
     "text": [
      "Today weather is fine, I am going out.\n"
     ]
    }
   ],
   "source": [
    "#collapse-hide\n",
    "# Or this way:\n",
    "if rain==True:\n",
    "    print(\"It is raining, I cannot go out...\")\n",
    "else:\n",
    "    print(\"Today weather is fine, I am going out.\")"
   ]
  },
  {
   "cell_type": "code",
   "execution_count": 4,
   "metadata": {},
   "outputs": [
    {
     "name": "stdout",
     "output_type": "stream",
     "text": [
      "I am going to School Today\n"
     ]
    }
   ],
   "source": [
    "#collapse-hide\n",
    "# sometime, in the program, we have to deal with other conditions\n",
    "rain = False\n",
    "weekday = True\n",
    "\n",
    "if not rain and weekday:\n",
    "    print(\"I am going to School Today\")\n",
    "\n",
    "elif not rain and not weekday:\n",
    "    print(\"I am going out to play\")\n",
    "\n",
    "else:\n",
    "    # Rain and weekday\n",
    "    print(\"Even though it is raining, I still have to go to school ...\")"
   ]
  },
  {
   "cell_type": "markdown",
   "metadata": {},
   "source": [
    "Also, we could check the `String` and `Int` variables:<br>\n",
    "\n",
    "> Note: here, when checking `if Condition == True`, we use `==` instead of `=`"
   ]
  },
  {
   "cell_type": "code",
   "execution_count": 6,
   "metadata": {},
   "outputs": [
    {
     "name": "stdout",
     "output_type": "stream",
     "text": [
      "Add Operation\n"
     ]
    }
   ],
   "source": [
    "#collapse-hide\n",
    "# Check String\n",
    "operation = \"add\"\n",
    "\n",
    "if operation == \"add\":\n",
    "    print(\"Add Operation\")\n",
    "    \n",
    "elif operation == \"sub\":\n",
    "    print(\"Sub Operation\")\n",
    "    \n",
    "elif operation == \"mul\":\n",
    "    print(\"Multiplication Operation\")\n",
    "    \n",
    "elif operation == \"div\":\n",
    "    print(\"Division Operation\")"
   ]
  },
  {
   "cell_type": "code",
   "execution_count": 15,
   "metadata": {},
   "outputs": [
    {
     "name": "stdout",
     "output_type": "stream",
     "text": [
      "There exists value for that int_obj\n"
     ]
    }
   ],
   "source": [
    "#collapse-hide\n",
    "# Check Int\n",
    "\n",
    "int_obj = 10\n",
    "# int_obj = -1  # Comment out to test\n",
    "# int_obj = 0\n",
    "# int_obj = None\n",
    "\n",
    "if int_obj:\n",
    "    print(\"There exists value for that int_obj\")\n",
    "else:\n",
    "    print(\"sorry, the input is None or Zero\")"
   ]
  },
  {
   "cell_type": "markdown",
   "metadata": {},
   "source": [
    "## Loops\n",
    "\n",
    "There are two main types of loops in python.\n",
    " 1. for\n",
    " 2. while\n",
    " \n",
    " \n",
    "Generally, `For` iterates for the given range,<br>\n",
    "`While` checks the condition and continue iteration until condition is False.\n",
    "\n",
    "```python\n",
    "for range():\n",
    "```\n",
    "\n",
    "```python\n",
    "while condition:\n",
    "```"
   ]
  },
  {
   "cell_type": "markdown",
   "metadata": {},
   "source": [
    "### For"
   ]
  },
  {
   "cell_type": "markdown",
   "metadata": {},
   "source": [
    "A `for` loop acts as an iterator in Python; it goes through items that are in a sequence or any other iterable item. Objects, that we've learned and we can iterate over, include strings, lists, tuples, and even built-in iterables for dictionaries, such as keys or values.\n",
    "\n",
    "Here's the general format for a for loop in Python:"
   ]
  },
  {
   "cell_type": "markdown",
   "metadata": {},
   "source": [
    "```python\n",
    "for item in object:\n",
    "    statements to do things\n",
    "```"
   ]
  },
  {
   "cell_type": "code",
   "execution_count": 5,
   "metadata": {},
   "outputs": [
    {
     "name": "stdout",
     "output_type": "stream",
     "text": [
      "0 1 2 3 4 5 6 7 8 9 \n"
     ]
    }
   ],
   "source": [
    "#collapse-hide\n",
    "# Loop for 10 times\n",
    "for i in range(10):\n",
    "    print(i, end=\" \")\n",
    "    \n",
    "print()"
   ]
  },
  {
   "cell_type": "code",
   "execution_count": 6,
   "metadata": {},
   "outputs": [
    {
     "name": "stdout",
     "output_type": "stream",
     "text": [
      "1 2 3 4 5 6 7 8 9 "
     ]
    }
   ],
   "source": [
    "#collapse-hide\n",
    "# Let's access element from list\n",
    "list_obj = [1, 2, 3, 4, 5, 6, 7, 8, 9]\n",
    "for obj in list_obj:\n",
    "    print(obj, end=\" \")"
   ]
  },
  {
   "cell_type": "markdown",
   "metadata": {},
   "source": [
    "`Tuples` have a special quality when it comes to `for` loops. If you are iterating through a sequence that contains tuples, the item can actually be the tuple itself, this is an example of tuple unpacking. During the `for` loop we will be unpacking the tuple inside of a sequence and we can access the individual items inside that `tuple`."
   ]
  },
  {
   "cell_type": "code",
   "execution_count": 7,
   "metadata": {},
   "outputs": [
    {
     "name": "stdout",
     "output_type": "stream",
     "text": [
      "(0, 1)\n",
      "(2, 3)\n",
      "(4, 5)\n"
     ]
    }
   ],
   "source": [
    "#collapse-hide\n",
    "list1 = [(0,1),(2,3),(4,5)]\n",
    "for tup in list1:\n",
    "    print(tup)"
   ]
  },
  {
   "cell_type": "code",
   "execution_count": 8,
   "metadata": {},
   "outputs": [
    {
     "name": "stdout",
     "output_type": "stream",
     "text": [
      "0 2 4 "
     ]
    }
   ],
   "source": [
    "#collapse-hide\n",
    "# Now with unpacking!\n",
    "for (t1,t2) in list1:\n",
    "    print(t1, end=\" \")"
   ]
  },
  {
   "cell_type": "markdown",
   "metadata": {},
   "source": [
    "In the above case, the first element of each tuple is printed out."
   ]
  },
  {
   "cell_type": "code",
   "execution_count": 10,
   "metadata": {},
   "outputs": [
    {
     "name": "stdout",
     "output_type": "stream",
     "text": [
      "1 3 5 "
     ]
    }
   ],
   "source": [
    "#collapse-hide\n",
    "# Now with unpacking!\n",
    "for (t1,t2) in list1:\n",
    "    print(t2, end=\" \")"
   ]
  },
  {
   "cell_type": "markdown",
   "metadata": {},
   "source": [
    "Here, the second element of each tuple gets printed out. \n",
    "\n",
    "With tuples in a sequence we can access the items inside of them through unpacking! The reason this is important is because many objects will deliver their iterables through tuples."
   ]
  },
  {
   "cell_type": "markdown",
   "metadata": {},
   "source": [
    "#### Nested For Loop\n",
    "\n",
    "`Nested For`, means *for loop* inside a *for loop*"
   ]
  },
  {
   "cell_type": "code",
   "execution_count": 11,
   "metadata": {},
   "outputs": [
    {
     "name": "stdout",
     "output_type": "stream",
     "text": [
      "1 2 3 4 5 6 7 8 "
     ]
    }
   ],
   "source": [
    "#collapse-hide\n",
    "nested_list = [[1, 2, 3, 4],\n",
    "               [5, 6, 7, 8]]\n",
    "\n",
    "# To access nested list, we could use nested for loop\n",
    "for row in nested_list:\n",
    "    for col in row:\n",
    "        print(col, end=\" \")"
   ]
  },
  {
   "cell_type": "markdown",
   "metadata": {},
   "source": [
    "### While\n",
    "\n",
    "The `while` statement in Python is one of most general ways to perform iteration. A `while` statement will repeatedly execute a single statement or group of statements as long as the condition is true. The reason it is called a 'loop' is because the code statements are looped through over and over again until the condition is no longer met.\n",
    "\n",
    "The general format of a while loop is:\n",
    "```python\n",
    "while condition:\n",
    "    code statements\n",
    "else:\n",
    "    final code statements\n",
    "```\n",
    "\n",
    "Let’s look at a few simple `while` loops in action."
   ]
  },
  {
   "cell_type": "code",
   "execution_count": 12,
   "metadata": {},
   "outputs": [
    {
     "name": "stdout",
     "output_type": "stream",
     "text": [
      "0 1 2 3 4 5 6 7 8 9 "
     ]
    }
   ],
   "source": [
    "#collapse-hide\n",
    "# While loop and loop for 10 times.\n",
    "i = 0\n",
    "while i<10:\n",
    "    print(i, end=\" \")\n",
    "    i+=1"
   ]
  },
  {
   "cell_type": "code",
   "execution_count": 13,
   "metadata": {},
   "outputs": [
    {
     "name": "stdout",
     "output_type": "stream",
     "text": [
      "x is currently: 0\n",
      "x is still less than 5, keep adding 1 to x\n",
      "x is currently: 1\n",
      "x is still less than 5, keep adding 1 to x\n",
      "x is currently: 2\n",
      "x is still less than 5, keep adding 1 to x\n",
      "x is currently: 3\n",
      "x is still less than 5, keep adding 1 to x\n",
      "x is currently: 4\n",
      "x is still less than 5, keep adding 1 to x\n"
     ]
    }
   ],
   "source": [
    "#collapse-hide\n",
    "x = 0\n",
    "\n",
    "while x < 5:\n",
    "    print('x is currently:',x)\n",
    "    print('x is still less than 5, keep adding 1 to x')\n",
    "    x += 1"
   ]
  },
  {
   "cell_type": "markdown",
   "metadata": {},
   "source": [
    "Notice how many times the print statements occurred and how the `while` loop kept going until the True condition was met, which occurred once x==5. It's important to note that once this occurred the code stopped. Let's see how we could add an `else` statement:"
   ]
  },
  {
   "cell_type": "code",
   "execution_count": 14,
   "metadata": {},
   "outputs": [
    {
     "name": "stdout",
     "output_type": "stream",
     "text": [
      "x is currently:  0\n",
      "x is still less than 5, keep adding 1 to x\n",
      "x is currently:  1\n",
      "x is still less than 5, keep adding 1 to x\n",
      "x is currently:  2\n",
      "x is still less than 5, keep adding 1 to x\n",
      "x is currently:  3\n",
      "x is still less than 5, keep adding 1 to x\n",
      "x is currently:  4\n",
      "x is still less than 5, keep adding 1 to x\n",
      "All Done!\n"
     ]
    }
   ],
   "source": [
    "#collapse-hide\n",
    "x = 0\n",
    "\n",
    "while x < 5:\n",
    "    print('x is currently: ',x)\n",
    "    print('x is still less than 5, keep adding 1 to x')\n",
    "    x += 1\n",
    "else:\n",
    "    print('All Done!')"
   ]
  },
  {
   "cell_type": "markdown",
   "metadata": {},
   "source": [
    "When the condition isn't true anymore, that is, x is now 5, and so the *else* statement **All Done!** is printed out instead."
   ]
  },
  {
   "cell_type": "markdown",
   "metadata": {},
   "source": [
    "## Further Resources for Conditionals and Loops\n",
    "\n",
    "If you want to learn more about conditional statements and loops in more details, please visit to official Python [documentation](https://docs.python.org/3/tutorial/controlflow.html#more-control-flow-tools). You can also learn more about [conditional statements](https://realpython.com/python-conditional-statements/), [for loops](https://realpython.com/python-for-loop/) and [while loops](https://realpython.com/python-while-loop/) in these posts."
   ]
  },
  {
   "cell_type": "markdown",
   "metadata": {},
   "source": [
    "# Functions\n",
    "\n",
    "Functions are great arsenal in python. \n",
    "\n",
    "You could think of **functions** as a factory, **process** `(do function)` the **raw inputs** `(Arguments)` to **desired products** `(output)`.\n",
    "There are two types of functions in Python.\n",
    " 1. Built-in Functions\n",
    " 2. User-Defined Functions"
   ]
  },
  {
   "cell_type": "markdown",
   "metadata": {},
   "source": [
    "## Built-in Functions\n",
    "\n",
    "We've already seen a few example of built-in functions when learning about Data Types in Python. Built-in Functions, come along with python and could be very useful when you need them.\n",
    "\n",
    "Following are some examples of built-in functions."
   ]
  },
  {
   "cell_type": "code",
   "execution_count": 1,
   "metadata": {},
   "outputs": [
    {
     "name": "stdout",
     "output_type": "stream",
     "text": [
      "-5\n",
      "5\n",
      "-5 <class 'str'>\n",
      "True\n"
     ]
    }
   ],
   "source": [
    "#collapse-hide\n",
    "int_obj = -5\n",
    "print(int_obj)\n",
    "\n",
    "# Find the absolute value\n",
    "abs_int = abs(int_obj)\n",
    "print(abs_int)\n",
    "\n",
    "# Convert Int to String\n",
    "int2str = str(int_obj)\n",
    "print(int2str, type(int2str))\n",
    "\n",
    "# Check the datatype\n",
    "print(isinstance(int_obj, int))"
   ]
  },
  {
   "cell_type": "markdown",
   "metadata": {},
   "source": [
    "We can also use built-in functions to construct data-structures."
   ]
  },
  {
   "cell_type": "code",
   "execution_count": 2,
   "metadata": {},
   "outputs": [
    {
     "name": "stdout",
     "output_type": "stream",
     "text": [
      "{1, 2, 3}\n",
      "[1, 2, 3, 1, 2, 3]\n",
      "(1, 2, 3, 1, 2, 3)\n",
      "{1: 'a', 2: 'b'}\n"
     ]
    }
   ],
   "source": [
    "#collapse-hide\n",
    "set_obj = set((1, 2, 3, 1, 2, 3))\n",
    "print(set_obj)\n",
    "\n",
    "list_obj = list((1, 2, 3, 1, 2, 3))\n",
    "print(list_obj)\n",
    "\n",
    "tuple_obj = tuple((1, 2, 3, 1, 2, 3))\n",
    "print(tuple_obj)\n",
    "\n",
    "dict_obj = dict([(1,\"a\"), (2, \"b\")])\n",
    "print(dict_obj)"
   ]
  },
  {
   "cell_type": "markdown",
   "metadata": {},
   "source": [
    "<a id=user></a>\n",
    "## User-Defined Functions\n",
    "\n",
    "This section will consist of explaining what a function is in Python and how to create one. Functions will be one of our main building blocks when we construct larger and larger amounts of code to solve problems.\n",
    "\n",
    "![](images/function.jpeg)\n",
    "\n",
    "Typical function in python consists of the following parts:\n",
    " 1. Input (Arguments in functions)\n",
    " 2. Process (What this function do)\n",
    " 3. Output (What this function return)\n",
    " \n",
    "In short, `IPO` for constructing a function.\n",
    "\n",
    "Functions will be one of most basic levels of reusing code in Python, and it will also allow us to start thinking of program design (we will dive much deeper into the ideas of design when we learn about Object Oriented Programming)."
   ]
  },
  {
   "cell_type": "markdown",
   "metadata": {},
   "source": [
    "### def Statements\n",
    "\n",
    "Let's see how to build out a function's syntax in Python. It has the following form:\n",
    "\n",
    "```python\n",
    "def function_name(arg1,arg2):\n",
    "    '''\n",
    "    This is where the function's Document String (docstring) goes\n",
    "    '''\n",
    "    # Do stuff here\n",
    "    # Return desired result\n",
    "```\n",
    "\n",
    "We begin with def then a space, followed by the name of the function. Try to keep names relevant though they can be variable, for example `len()` is a good name for a length() function. Also be careful with names, you wouldn't want to call a function the same name as a built-in functions(such as **len**).\n",
    "\n",
    "Next comes a pair of parentheses with a number of arguments separated by a comma. These arguments are the inputs for your function. You'll be able to use these inputs in your function and reference them. After this you put a colon.\n",
    "\n",
    "Now here is the important step, you must *indent* to begin the code inside your function correctly. Python makes use of whitespace to organize code. Lots of other programing languages do not do this, so keep that in mind.\n",
    "\n",
    "Let's see the example of creating basic printing function."
   ]
  },
  {
   "cell_type": "code",
   "execution_count": 9,
   "metadata": {},
   "outputs": [
    {
     "name": "stdout",
     "output_type": "stream",
     "text": [
      "Hello World\n"
     ]
    }
   ],
   "source": [
    "#collapse-hide\n",
    "# Define a function\n",
    "\n",
    "# No argument\n",
    "def print_hello():\n",
    "    print(\"Hello World\")\n",
    "\n",
    "print_hello()  # Call the funtion"
   ]
  },
  {
   "cell_type": "markdown",
   "metadata": {},
   "source": [
    "Let's see some functions with input arguments."
   ]
  },
  {
   "cell_type": "code",
   "execution_count": 1,
   "metadata": {},
   "outputs": [
    {
     "name": "stdout",
     "output_type": "stream",
     "text": [
      "Hello Aung Aung! Welcome.\n"
     ]
    }
   ],
   "source": [
    "#collapse-hide\n",
    "# Argument with user name\n",
    "def print_hello(name):\n",
    "    \"\"\"\n",
    "    Print The User Name\n",
    "    Args:\n",
    "        name(String) -> User name\n",
    "    Return:\n",
    "        None\n",
    "    \"\"\"\n",
    "    print(f\"Hello {name}! Welcome.\")\n",
    "\n",
    "print_hello(\"Aung Aung\")    # Call the funtion"
   ]
  },
  {
   "cell_type": "code",
   "execution_count": 2,
   "metadata": {},
   "outputs": [
    {
     "name": "stdout",
     "output_type": "stream",
     "text": [
      "Hello Aung Aung! Welcome. You are now 22 years old.\n"
     ]
    }
   ],
   "source": [
    "#collapse-hide\n",
    "# Arguments with different datatypes\n",
    "def print_hello(name, age):\n",
    "    \"\"\"\n",
    "    Print The User Name\n",
    "    Args:\n",
    "        name (String) -> User name\n",
    "        age  (Int) -> User Age\n",
    "    Return:\n",
    "        None\n",
    "    \"\"\"\n",
    "    print(f\"Hello {name}! Welcome. You are now {age} years old.\")\n",
    "\n",
    "print_hello(\"Aung Aung\", 22)    # Call the funtion"
   ]
  },
  {
   "cell_type": "markdown",
   "metadata": {},
   "source": [
    "Functions arguments can also have default values. See the example below."
   ]
  },
  {
   "cell_type": "code",
   "execution_count": 3,
   "metadata": {},
   "outputs": [
    {
     "name": "stdout",
     "output_type": "stream",
     "text": [
      "Hello Aung Aung! Welcome. You are now 18 years old.\n",
      "Hello Aung Aung! Welcome. You are now 22 years old.\n"
     ]
    }
   ],
   "source": [
    "#collapse-hide\n",
    "# Argument having default value\n",
    "def print_hello(name, age = 18):\n",
    "    \"\"\"\n",
    "    Print The User Name\n",
    "    Args:\n",
    "        name (String) -> User name\n",
    "        age  (Int) -> User Age\n",
    "    Return:\n",
    "        None\n",
    "    \"\"\"\n",
    "    print(f\"Hello {name}! Welcome. You are now {age} years old.\")\n",
    "\n",
    "# Because the 'age' argument has default value, we don't need to provide value.\n",
    "print_hello(\"Aung Aung\")\n",
    "print_hello(\"Aung Aung\", 22)"
   ]
  },
  {
   "cell_type": "markdown",
   "metadata": {},
   "source": [
    "### Using return\n",
    "\n",
    "Let's see some examples that use a `return` statement. **return** allows a function to return a result that can then be stored as a variable, or used in whatever manner a user wants.\n",
    "\n",
    "```python\n",
    "def add_num(num1,num2,num3):\n",
    "    return num1 + num2 + num3\n",
    "```"
   ]
  },
  {
   "cell_type": "code",
   "execution_count": 18,
   "metadata": {},
   "outputs": [
    {
     "data": {
      "text/plain": [
       "6"
      ]
     },
     "execution_count": 18,
     "metadata": {},
     "output_type": "execute_result"
    }
   ],
   "source": [
    "#collapse-hide\n",
    "# Calling the function\n",
    "add_num(1,2,3)"
   ]
  },
  {
   "cell_type": "code",
   "execution_count": 15,
   "metadata": {},
   "outputs": [
    {
     "name": "stdout",
     "output_type": "stream",
     "text": [
      "6\n"
     ]
    }
   ],
   "source": [
    "#collapse-hide\n",
    "# Can also save as variable due to return\n",
    "result = add_num(1,2,3)\n",
    "print(result)"
   ]
  },
  {
   "cell_type": "code",
   "execution_count": 21,
   "metadata": {},
   "outputs": [
    {
     "name": "stdout",
     "output_type": "stream",
     "text": [
      "8\n",
      "9\n"
     ]
    }
   ],
   "source": [
    "#collapse-hide\n",
    "# Let's try to make a power function\n",
    "def power(base_num, pow_num):\n",
    "    \"\"\"\n",
    "    Calculate the power of base_num\n",
    "    Args:\n",
    "        base_num(Int) -> Base number for calculation\n",
    "        pow_num(Int) -> Power number for calculation\n",
    "    Return:\n",
    "        power_num(Int) -> Power number for calculation \n",
    "    \"\"\"\n",
    "    \n",
    "    return base_num ** pow_num\n",
    "\n",
    "# We can directly print out the value\n",
    "print(power(2, 3))\n",
    "\n",
    "# Or we can assign the output value to a variable and print.\n",
    "output = power(3, 2)\n",
    "print(output)"
   ]
  },
  {
   "cell_type": "markdown",
   "metadata": {},
   "source": [
    "In the above function:<br>\n",
    "We get the **process** of `Calculate the Power of base_num`,\n",
    "**Input** of `base_num` and `pow_num`. **Output** for `power_num`."
   ]
  },
  {
   "cell_type": "markdown",
   "metadata": {},
   "source": [
    "## Further Resources for Functions\n",
    "\n",
    "If you want to learn more about built-in functions in more details, please visit to official Python [documentation](https://docs.python.org/3/library/functions.html#built-in-functions). You can also check [this](https://realpython.com/defining-your-own-python-function/) blog post about Functions."
   ]
  },
  {
   "cell_type": "markdown",
   "metadata": {},
   "source": [
    "# Classes\n",
    "\n",
    "Classes are the main building blocks in Object Oriented Programming (OOP). OOP is one of the hardest parts for beginners when they are first starting to learn Python. But we will get you through OOP in the following section. So, let's start."
   ]
  },
  {
   "cell_type": "markdown",
   "metadata": {},
   "source": [
    "![](animations/OOP.gif)"
   ]
  },
  {
   "cell_type": "markdown",
   "metadata": {},
   "source": [
    "## Intro to OOP\n",
    "\n",
    "Let's start the lesson by remembering about the Basic Python Objects. For example:\n",
    "\n",
    "```python\n",
    "lst = [0, 1, 2, 3]\n",
    "```\n",
    "When we print out the type of that *lst*\n",
    "```python\n",
    "print(type(lst))\n",
    "```\n",
    "```\n",
    "<class 'list'>\n",
    "```\n",
    "This is the built-in `Class` of `list`.<br>\n",
    "And we can call **methods** on that list with\n",
    "```python\n",
    "lst.append(2)\n",
    "lst\n",
    "```\n",
    "```\n",
    "[0, 1, 2, 3, 2]\n",
    "```\n",
    "Here, *append* is the method that the `<class 'list'>` has."
   ]
  },
  {
   "cell_type": "markdown",
   "metadata": {},
   "source": [
    "### Objects\n",
    "\n",
    "Everything in Python is an object. We can use type() to check the type of object:"
   ]
  },
  {
   "cell_type": "code",
   "execution_count": 5,
   "metadata": {},
   "outputs": [
    {
     "name": "stdout",
     "output_type": "stream",
     "text": [
      "<class 'int'>\n",
      "<class 'list'>\n",
      "<class 'tuple'>\n",
      "<class 'dict'>\n"
     ]
    }
   ],
   "source": [
    "#collapse-hide\n",
    "print(type(1))\n",
    "print(type([]))\n",
    "print(type(()))\n",
    "print(type({}))"
   ]
  },
  {
   "cell_type": "markdown",
   "metadata": {},
   "source": [
    "So we know all these things are objects, so how can we create our own Object types? That is where the `class` keyword comes in."
   ]
  },
  {
   "cell_type": "markdown",
   "metadata": {},
   "source": [
    "## Class and Attributes\n",
    "\n",
    "### class\n",
    "\n",
    "User defined objects are created using the `class` keyword. The **class** is a blueprint that defines the nature of a future object. From classes we can construct instances. An instance is a specific object created from a particular class. For example:\n",
    "```python\n",
    "t = (1, 2, 3)\n",
    "```\n",
    "We created the object *t* which was an instance of a tuple object.\n",
    "\n",
    "Now, Let's try a step up and create our own class.\n",
    "```python\n",
    "# Construct a new object type called Student\n",
    "class Student:\n",
    "    pass\n",
    "\n",
    "# Instance of the class Student\n",
    "x = Student()\n",
    "\n",
    "print(type(x))\n",
    "```\n",
    "```\n",
    "<class '__main__.Student'>\n",
    "```"
   ]
  },
  {
   "cell_type": "markdown",
   "metadata": {},
   "source": [
    "Most of the programmers give classes a name that starts with a capital letter by convention. Note how **x** is now the instance of a Student class. In other words, we instantiate the Student class.\n",
    "\n",
    "At the inside of the class we currently just have `pass` keyword. But we can define class attributes and methods.\n",
    "\n",
    "> An **attribute** is a characteristic of an object.<br>A **method** is an operation we can perform with the object.\n",
    "\n",
    "For example, we can create a class called Dog. An attribute of a dog may be its breed or its name, while a method of a dog may be defined by a .bark() method which returns a sound."
   ]
  },
  {
   "cell_type": "markdown",
   "metadata": {},
   "source": [
    "### Attributes\n",
    "\n",
    "The syntax for creating an attribute is:\n",
    "```\n",
    "self.attribute = something\n",
    "```\n",
    "There is a special method called:\n",
    "```\n",
    "__init__()\n",
    "```\n",
    "This method is used to initialize the attributes of an object. For example:\n",
    "```python\n",
    "class Student:\n",
    "    def __init__(self, name):\n",
    "        self.name = name\n",
    "    \n",
    "a = Student(name = 'Aung Paing')\n",
    "b = Student(name = 'Soe Pyae Phyo')\n",
    "```\n",
    "\n",
    "Let's break down what we have above. The special method\n",
    "```\n",
    "__init__()\n",
    "```\n",
    "is called automatically right after the object has been created.\n",
    "```\n",
    "def __init__(self, name):\n",
    "```\n",
    "Each attribute in a class definition begins with a reference to the instance object. It is by convention named self. The *name* is the argument. The value is passed during the class instantiation.\n",
    "```\n",
    "self.name = name\n",
    "```\n",
    "> Note: `self.name` can be given any desire variable names; no need to be `name`. For example, `self.student_name = name`\n",
    "\n",
    "Now we have created two instances of the Student class. With two different names, we can then use these attributes like this:"
   ]
  },
  {
   "cell_type": "markdown",
   "metadata": {},
   "source": [
    "```python\n",
    "a.name\n",
    "```\n",
    "```\n",
    "'Aung Aung'\n",
    "```\n",
    "```python\n",
    "b.name\n",
    "```\n",
    "```\n",
    "'Soe Soe'\n",
    "```\n",
    "\n",
    "Note how we don't have any parentheses after name; this is because it is an *attribute* and doesn't take any arguments.\n",
    "\n",
    "Lets add more *attributes* to our **Student** class."
   ]
  },
  {
   "cell_type": "code",
   "execution_count": 6,
   "metadata": {},
   "outputs": [
    {
     "name": "stdout",
     "output_type": "stream",
     "text": [
      "\n",
      "Student a Data :\n",
      "Myo Myo\n",
      "EC\n",
      "3\n",
      "24\n",
      "True\n"
     ]
    }
   ],
   "source": [
    "#collapse-hide\n",
    "class Student:\n",
    "    def __init__(self, name, major, batch, age, passedlastterm):\n",
    "        self.name = name\n",
    "        self.major = major\n",
    "        self.batch = batch\n",
    "        self.age = age\n",
    "        self.passedlastterm = passedlastterm\n",
    "        \n",
    "\n",
    "student_a = Student(\"Myo Myo\", \"EC\", 3, 24, True)\n",
    "student_b = Student(\"Su Su\", \"Text\", 2, 18, False)\n",
    "\n",
    "\n",
    "print(\"\\nStudent a Data :\")\n",
    "print(student_a.name)\n",
    "print(student_a.major)\n",
    "print(student_a.batch)\n",
    "print(student_a.age)\n",
    "print(student_a.passedlastterm)"
   ]
  },
  {
   "cell_type": "markdown",
   "metadata": {},
   "source": [
    "## Methods\n",
    "\n",
    "Methods are functions defined inside the body of a class. They are used to perform operations with the attributes of our objects. Methods are a key concept of the OOP pattern. They are essential to dividing responsibilities in programming, especially in large applications.\n",
    "\n",
    "Let's go through an example of creating a Square class:"
   ]
  },
  {
   "cell_type": "code",
   "execution_count": 7,
   "metadata": {},
   "outputs": [
    {
     "name": "stdout",
     "output_type": "stream",
     "text": [
      "Length is  4\n",
      "Area is  16\n",
      "Now length is  6\n",
      "Now area is  36\n"
     ]
    }
   ],
   "source": [
    "#collapse-hide\n",
    "class Square:\n",
    "    \n",
    "    # Square gets instantiated\n",
    "    def __init__(self, length = 4):\n",
    "        self.length = length\n",
    "        self.area   = length * length\n",
    "    \n",
    "    # Resetting length\n",
    "    def setLength(self, new_length):\n",
    "        self.length = new_length\n",
    "        self.area = new_length * new_length\n",
    "        \n",
    "s = Square()\n",
    "\n",
    "print('Length is ', s.length)\n",
    "print('Area is ', s.area)\n",
    "\n",
    "s.setLength(6)\n",
    "print('Now length is ', s.length)\n",
    "print('Now area is ', s.area)"
   ]
  },
  {
   "cell_type": "markdown",
   "metadata": {},
   "source": [
    "In this Square class, we have defined two attributes: `self.length` and `self.area`.\n",
    "```\n",
    "def setLength(self, new_length):\n",
    "```\n",
    "is called **method** of the class, which we use to interact with the user and manipulate the class attributes. Notice how we used `self.` notation to reference attributes of the class within the method calls. \n",
    "\n",
    "Now, Let's add some methods to **Student** class."
   ]
  },
  {
   "cell_type": "code",
   "execution_count": 8,
   "metadata": {},
   "outputs": [
    {
     "name": "stdout",
     "output_type": "stream",
     "text": [
      "Student a Result\n",
      "Congrats, you can move to next term.\n"
     ]
    }
   ],
   "source": [
    "#collapse-hide\n",
    "class Student:\n",
    "    def __init__(self, name, major, batch, age, passedlastterm):\n",
    "        self.name = name\n",
    "        self.major = major\n",
    "        self.batch = batch\n",
    "        self.age = age\n",
    "        self.passedlastterm = passedlastterm\n",
    "        \n",
    "    def print_result(self):\n",
    "        if self.passedlastterm:\n",
    "            print(\"Congrats, you can move to next term.\")\n",
    "        else:\n",
    "            print(\"Sorry, you need to retake the exam.\")\n",
    "\n",
    "            \n",
    "student_a = Student(\"Myo Myo\", \"EC\", 3, 24, True)\n",
    "print(\"Student a Result\")\n",
    "student_a.print_result()"
   ]
  },
  {
   "cell_type": "markdown",
   "metadata": {},
   "source": [
    "## Inheritance\n",
    "\n",
    "Inheritance is a way to form new classes using classes that have already been defined. The newly formed classes are called derived classes, the classes that we derive from are called base classes. Important benefits of inheritance are code reuse and reduction of complexity of a program. The derived classes override or extend the functionality of base classes.\n",
    "\n",
    "Let's use our **Student** class again.\n",
    "\n",
    "```python\n",
    "# Inheritance and not change anything.\n",
    "class ExchangeStudent(Student):\n",
    "    pass\n",
    "```"
   ]
  },
  {
   "cell_type": "markdown",
   "metadata": {},
   "source": [
    "In this example, we have two classes: **Student** and **ExchangeStudent**. The Student is the base class, the ExchangeStudent is the derived class.\n",
    "\n",
    "The derived class inherits the functionality of the base class. This is shown in the example below.\n",
    "\n",
    "```python\n",
    "# ExchangeStudent should have all properties and methods Student has.\n",
    "student_ex = ExchangeStudent(\"Htet Htet\", \"Civil\", 1, 25, True)\n",
    "\n",
    "print(\"\\nStudent ex Result\")\n",
    "student_ex.print_result()\n",
    "```\n",
    "```\n",
    "Student ex Result\n",
    "Congrats, you can move to next term.\n",
    "```"
   ]
  },
  {
   "cell_type": "markdown",
   "metadata": {},
   "source": [
    "## Further Resources for Class\n",
    "\n",
    "If you want to learn more about Object Oriented Programming (OOP) in more details, please visit to official Python [documentation](https://docs.python.org/3/tutorial/classes.html#a-first-look-at-classes). You can also check [this](https://realpython.com/python3-object-oriented-programming/) blog post about OOP."
   ]
  },
  {
   "cell_type": "markdown",
   "metadata": {},
   "source": [
    "<div>Icons made by <a href=\"https://www.flaticon.com/authors/freepik\" title=\"Freepik\">Freepik</a> from <a href=\"https://www.flaticon.com/\" title=\"Flaticon\">www.flaticon.com</a></div>"
   ]
  }
 ],
 "metadata": {
  "kernelspec": {
   "display_name": "Python 3",
   "language": "python",
   "name": "python3"
  },
  "language_info": {
   "codemirror_mode": {
    "name": "ipython",
    "version": 3
   },
   "file_extension": ".py",
   "mimetype": "text/x-python",
   "name": "python",
   "nbconvert_exporter": "python",
   "pygments_lexer": "ipython3",
   "version": "3.8.5"
  }
 },
 "nbformat": 4,
 "nbformat_minor": 4
}
