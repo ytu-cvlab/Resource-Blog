{
 "cells": [
  {
   "cell_type": "markdown",
   "metadata": {},
   "source": [
    "# Week 1, Day 3 (Introduction to Image Processing in Python)\n",
    "> Welcome to final day (Week 1) of the McE-51069 course. We will introduce Image Processing techniques that can be utilized in various research problems and share you necessary lectures and assignment notebooks.\n",
    "\n",
    "- toc: true\n",
    "- badges: false\n",
    "- comments: true\n",
    "- categories: [image_processing, overview]"
   ]
  },
  {
   "cell_type": "markdown",
   "metadata": {},
   "source": [
    "# Numpy\n",
    "\n",
    "Numpy is a strong third-party library emphasize on numerical calculation in python.<br>\n",
    "In short, numpy has a `ndArray` data type, which can process numbers, a large numbers of numbers, more efficiently than `List`.\n",
    "\n",
    "The codes below are reference from [Numpy Official Doc](https://numpy.org/doc/stable/user/quickstart.html)"
   ]
  },
  {
   "cell_type": "markdown",
   "metadata": {},
   "source": [
    "## The Basics\n",
    "\n",
    "### Create Array\n",
    "\n",
    "There are many ways to create numpy array.<br>\n",
    "The simplest one : from `List`.\n",
    "```python\n",
    "array = np.array(list)\n",
    "```\n",
    "\n",
    "Or we could create array with **functions** come with **numpy**.<br>\n",
    "```python\n",
    "array = np.arange(start, stop, step)\n",
    "```\n",
    "But, with `np.arange`, we could not control the number of element in that array. So:\n",
    "```python\n",
    "array = np.linspace(start, stop, num)\n",
    "```\n",
    "Or, we could just create array from the fly just describe the shape of array that we want.\n",
    "```python\n",
    "zeros = np.zeros(shape_in_tuple)\n",
    "ones = np.ones(shape_in_tuple)\n",
    "empty = np.empty(shape_in_tuple)\n",
    "```"
   ]
  },
  {
   "cell_type": "code",
   "execution_count": 1,
   "metadata": {},
   "outputs": [
    {
     "name": "stdout",
     "output_type": "stream",
     "text": [
      "[1 2 3 4 5]\n",
      "[ 2  4  6  8 10 12 14 16 18]\n",
      "[0.  0.5 1.  1.5 2. ]\n",
      "[[0. 0. 0. 0. 0.]\n",
      " [0. 0. 0. 0. 0.]\n",
      " [0. 0. 0. 0. 0.]\n",
      " [0. 0. 0. 0. 0.]\n",
      " [0. 0. 0. 0. 0.]]\n",
      "[[1. 1. 1. 1. 1.]\n",
      " [1. 1. 1. 1. 1.]\n",
      " [1. 1. 1. 1. 1.]\n",
      " [1. 1. 1. 1. 1.]\n",
      " [1. 1. 1. 1. 1.]]\n",
      "[[1. 1. 1. 1. 1.]\n",
      " [1. 1. 1. 1. 1.]\n",
      " [1. 1. 1. 1. 1.]\n",
      " [1. 1. 1. 1. 1.]\n",
      " [1. 1. 1. 1. 1.]]\n"
     ]
    }
   ],
   "source": [
    "#collapse-hide\n",
    "import numpy as np\n",
    "\n",
    "# Let's Create an array\n",
    "array = np.array([1, 2, 3, 4, 5])\n",
    "\n",
    "# Print Out the Array\n",
    "print(array)\n",
    "\n",
    "array = np.arange(2, 20, 2)\n",
    "print(array)\n",
    "\n",
    "#Create with the count of array wanted\n",
    "array = np.linspace(0, 2, 5)\n",
    "print(array)\n",
    "\n",
    "# Initialize array for place holder\n",
    "array = np.zeros((5,5))\n",
    "print(array)\n",
    "\n",
    "array = np.ones((5,5))\n",
    "print(array)\n",
    "\n",
    "array = np.empty((5,5))\n",
    "print(array)"
   ]
  },
  {
   "cell_type": "markdown",
   "metadata": {},
   "source": [
    "## Basic Operations"
   ]
  },
  {
   "cell_type": "code",
   "execution_count": 49,
   "metadata": {},
   "outputs": [
    {
     "name": "stdout",
     "output_type": "stream",
     "text": [
      "Addition of two array : \t [5 7 9]\n",
      "Subtraction of two array : \t [-3 -3 -3]\n",
      "Multiplication of two array : \t [ 4 10 18]\n",
      "Division of two array : \t [0.25 0.4  0.5 ]\n"
     ]
    }
   ],
   "source": [
    "#collapse-hide\n",
    "# Simple Arithmetic Operations\n",
    "array_a = np.array([1, 2, 3])\n",
    "array_b = np.array([4, 5, 6])\n",
    "\n",
    "print(\"Addition of two array : \\t\", array_a + array_b)\n",
    "print(\"Subtraction of two array : \\t\", array_a - array_b)\n",
    "print(\"Multiplication of two array : \\t\", array_a * array_b)\n",
    "print(\"Division of two array : \\t\", array_a / array_b)"
   ]
  },
  {
   "cell_type": "code",
   "execution_count": 53,
   "metadata": {},
   "outputs": [
    {
     "name": "stdout",
     "output_type": "stream",
     "text": [
      "[0.84147098 0.90929743 0.14112001] \n",
      " [ 0.54030231 -0.41614684 -0.9899925 ]\n"
     ]
    }
   ],
   "source": [
    "#collapse-hide\n",
    "# Or we could apply basic math functions [sin, cos] to arrays.\n",
    "sine_array = np.sin(array_a)\n",
    "cos_array = np.cos(array_a)\n",
    "print(sine_array, '\\n', cos_array)"
   ]
  },
  {
   "cell_type": "markdown",
   "metadata": {},
   "source": [
    "## Indexing, Slicing and Iterating\n",
    "\n",
    "Accessing element in `ndArray` is just better than in `List`.\n",
    "We could access one element by its *Index*:\n",
    "```python\n",
    "element = array[0]\n",
    "```\n",
    "or in range, *Slicing*\n",
    "```python\n",
    "element = array[0:5]\n",
    "```\n",
    "![](animations/index_animation.gif)"
   ]
  },
  {
   "cell_type": "markdown",
   "metadata": {},
   "source": [
    "## Array Manipulation\n",
    "\n",
    "We could manipulate shape of array in numpy.\n",
    "![](animations/stacking_animation.gif)"
   ]
  },
  {
   "cell_type": "markdown",
   "metadata": {},
   "source": [
    "## Ordering\n",
    "\n",
    "Sort or find the **Max**, **Min** value in the array.\n",
    "![](animations/min_max_animation.gif)"
   ]
  },
  {
   "cell_type": "markdown",
   "metadata": {},
   "source": [
    "<a id=stat></a>\n",
    "## Basic Statistics\n",
    "\n",
    "Numpy is originally designed for Data Science, so, it normally have most of the statictics calculations.<br>We could find the basic statistics value `Mean` with `np.mean()`, `Standard Deviation` with `np.std()` and `Variance` with `np.var()` in the array."
   ]
  },
  {
   "cell_type": "markdown",
   "metadata": {},
   "source": [
    "## Simple Comparison\n",
    "\n",
    "The Strength of `Numpy` is its **Broadcasting**, which make calculation much, much faster than `List`.<br>\n",
    "`List` have to iterate through each and every element to access them, while `Numpy` can iteration one time and get access to all elements."
   ]
  },
  {
   "cell_type": "markdown",
   "metadata": {},
   "source": [
    "### Code Complexity\n",
    "\n",
    "```python\n",
    "# Add 1: to list\n",
    "for i in range(len(list_obj)):\n",
    "    for j in range(len(list_obj[0])):\n",
    "        for k in range(len(list_obj[0][0])):\n",
    "            list_obj[i][j][k] += 1\n",
    "            \n",
    "# Add 1: to Array\n",
    "np_array += 1\n",
    "```"
   ]
  },
  {
   "cell_type": "markdown",
   "metadata": {},
   "source": [
    "### Speed\n",
    "\n",
    "We test a function, same input for both `List` and `Numpy Array`, but get different result time.<br>\n",
    "See more detail in [code](link to code).\n",
    "Every time you run, the value might be a little different, but:\n",
    "![](images/run_test.png)\n",
    "\n",
    "In array, it only costs `4.61ms` when in list it costs `186ms`.<br>\n",
    "That is so much faster in numpy."
   ]
  },
  {
   "cell_type": "markdown",
   "metadata": {},
   "source": [
    "# Matplotlib"
   ]
  },
  {
   "cell_type": "markdown",
   "metadata": {},
   "source": [
    "Matplotlib is a comprehensive library for creating static, animated, and interactive visualizations in Python."
   ]
  },
  {
   "cell_type": "markdown",
   "metadata": {},
   "source": [
    "matplotlib - https://matplotlib.org/"
   ]
  },
  {
   "cell_type": "markdown",
   "metadata": {},
   "source": [
    "matplotlib.pyplot - https://matplotlib.org/api/pyplot_api.html"
   ]
  },
  {
   "cell_type": "markdown",
   "metadata": {},
   "source": [
    "### 1. Simple Plots"
   ]
  },
  {
   "cell_type": "markdown",
   "metadata": {},
   "source": [
    "https://matplotlib.org/3.3.3/api/_as_gen/matplotlib.pyplot.plot.html"
   ]
  },
  {
   "cell_type": "markdown",
   "metadata": {},
   "source": [
    "### 2. Using Subplots"
   ]
  },
  {
   "cell_type": "markdown",
   "metadata": {},
   "source": [
    "https://matplotlib.org/3.3.3/api/_as_gen/matplotlib.pyplot.subplots.html"
   ]
  },
  {
   "cell_type": "markdown",
   "metadata": {},
   "source": [
    "### 3. Scatter plots"
   ]
  },
  {
   "cell_type": "markdown",
   "metadata": {},
   "source": [
    "https://matplotlib.org/3.3.3/api/_as_gen/matplotlib.pyplot.scatter.html"
   ]
  },
  {
   "cell_type": "markdown",
   "metadata": {},
   "source": [
    "### 4. Histograms"
   ]
  },
  {
   "cell_type": "markdown",
   "metadata": {},
   "source": [
    "https://matplotlib.org/3.3.3/api/_as_gen/matplotlib.pyplot.hist.html"
   ]
  },
  {
   "cell_type": "markdown",
   "metadata": {},
   "source": [
    "# OpenCV"
   ]
  },
  {
   "cell_type": "markdown",
   "metadata": {},
   "source": [
    "OpenCV (Open Source Computer Vision Library: http://opencv.org) is an open-source library that includes several hundreds of computer vision algorithms."
   ]
  },
  {
   "cell_type": "markdown",
   "metadata": {},
   "source": [
    "https://docs.opencv.org/master/index.html"
   ]
  },
  {
   "cell_type": "markdown",
   "metadata": {},
   "source": [
    "### 1. Reading & Writing Images"
   ]
  },
  {
   "cell_type": "markdown",
   "metadata": {},
   "source": [
    "##### Basic Functions"
   ]
  },
  {
   "cell_type": "markdown",
   "metadata": {},
   "source": [
    "cv2.imread(path,flag)"
   ]
  },
  {
   "cell_type": "markdown",
   "metadata": {},
   "source": [
    "cv2.imshow('title',image)\n"
   ]
  },
  {
   "cell_type": "markdown",
   "metadata": {},
   "source": [
    "cv2.waitKey(sec)"
   ]
  },
  {
   "cell_type": "markdown",
   "metadata": {},
   "source": [
    "cv2.destroyAllWindows()"
   ]
  },
  {
   "cell_type": "markdown",
   "metadata": {},
   "source": [
    "cv2.imwrite('filename',image)"
   ]
  },
  {
   "cell_type": "markdown",
   "metadata": {},
   "source": [
    "source - https://opencv-python-tutroals.readthedocs.io/en/latest/py_tutorials/py_gui/py_image_display/py_image_display.html"
   ]
  },
  {
   "cell_type": "markdown",
   "metadata": {},
   "source": [
    "### 2. Drawing shapes"
   ]
  },
  {
   "cell_type": "markdown",
   "metadata": {},
   "source": [
    "cv2.line(image, start_point, end_point, color, thickness)"
   ]
  },
  {
   "cell_type": "markdown",
   "metadata": {},
   "source": [
    "cv2.cvtColor(src,method)"
   ]
  },
  {
   "cell_type": "markdown",
   "metadata": {},
   "source": [
    "cv2.rectangle(image, start_point, end_point, color, thickness)"
   ]
  },
  {
   "cell_type": "markdown",
   "metadata": {},
   "source": [
    "cv2.circle(image, center_coordinates, radius, color, thickness)"
   ]
  },
  {
   "cell_type": "markdown",
   "metadata": {},
   "source": [
    "cv2.putText(image, text, org, font, fontScale, color[, thickness[, lineType[, bottomLeftOrigin]]])"
   ]
  },
  {
   "cell_type": "markdown",
   "metadata": {},
   "source": [
    "sources -\n",
    "\n",
    "https://www.geeksforgeeks.org/\n",
    "\n",
    "https://docs.opencv.org/master/d6/d6e/group__imgproc__draw.html"
   ]
  },
  {
   "cell_type": "markdown",
   "metadata": {},
   "source": [
    "### 3. Face Detection with HaarCascade Detector"
   ]
  },
  {
   "cell_type": "markdown",
   "metadata": {},
   "source": [
    " cv2.CascadeClassifier(filename)"
   ]
  },
  {
   "cell_type": "markdown",
   "metadata": {},
   "source": [
    "cv2.CascadeClassifier.detectMultiScale(\timage,objects,scaleFactor,minNeighbors,flags,minSize,maxSize)"
   ]
  },
  {
   "cell_type": "markdown",
   "metadata": {},
   "source": [
    "https://docs.opencv.org/3.4/d1/de5/classcv_1_1CascadeClassifier.html"
   ]
  },
  {
   "cell_type": "markdown",
   "metadata": {},
   "source": [
    "https://docs.opencv.org/3.4/db/d28/tutorial_cascade_classifier.html"
   ]
  },
  {
   "cell_type": "markdown",
   "metadata": {},
   "source": [
    "### 4. Resizing images"
   ]
  },
  {
   "cell_type": "markdown",
   "metadata": {},
   "source": [
    "cv2.resize(input,(size_x,size_y),fx,fy,interpolation)"
   ]
  },
  {
   "cell_type": "markdown",
   "metadata": {},
   "source": [
    "https://docs.opencv.org/master/da/d6e/tutorial_py_geometric_transformations.html"
   ]
  },
  {
   "cell_type": "markdown",
   "metadata": {},
   "source": [
    "### 5. Splitting & Merging images"
   ]
  },
  {
   "cell_type": "markdown",
   "metadata": {},
   "source": [
    "b,g,r = cv2.split(color_image)"
   ]
  },
  {
   "cell_type": "markdown",
   "metadata": {},
   "source": [
    "image = cv2.merge((r,g,b))"
   ]
  },
  {
   "cell_type": "markdown",
   "metadata": {},
   "source": [
    "https://opencv-python-tutroals.readthedocs.io/en/latest/py_tutorials/py_core/py_basic_ops/py_basic_ops.html"
   ]
  },
  {
   "cell_type": "markdown",
   "metadata": {},
   "source": [
    "### 6. Image translation & rotation"
   ]
  },
  {
   "cell_type": "markdown",
   "metadata": {},
   "source": [
    "cv2.warpAffine(image, M, output_size, flags, borderMode, borderValue)"
   ]
  },
  {
   "cell_type": "markdown",
   "metadata": {},
   "source": [
    "cv2.getRotationMatrix2D(center, angle, scale)"
   ]
  },
  {
   "cell_type": "markdown",
   "metadata": {},
   "source": [
    "https://docs.opencv.org/3.4/d4/d61/tutorial_warp_affine.html"
   ]
  },
  {
   "cell_type": "markdown",
   "metadata": {},
   "source": [
    "https://www.programcreek.com/python/example/89459/cv2.getRotationMatrix2D"
   ]
  },
  {
   "cell_type": "markdown",
   "metadata": {},
   "source": [
    "https://docs.opencv.org/3.4/da/d54/group__imgproc__transform.html"
   ]
  }
 ],
 "metadata": {
  "kernelspec": {
   "display_name": "Python 3",
   "language": "python",
   "name": "python3"
  },
  "language_info": {
   "codemirror_mode": {
    "name": "ipython",
    "version": 3
   },
   "file_extension": ".py",
   "mimetype": "text/x-python",
   "name": "python",
   "nbconvert_exporter": "python",
   "pygments_lexer": "ipython3",
   "version": "3.8.5"
  }
 },
 "nbformat": 4,
 "nbformat_minor": 4
}
