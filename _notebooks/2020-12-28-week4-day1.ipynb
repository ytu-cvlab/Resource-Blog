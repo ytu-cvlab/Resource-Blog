{
 "cells": [
  {
   "cell_type": "markdown",
   "metadata": {},
   "source": [
    "# Week 4, Day 1 (Introduction to the RL Framework)\n",
    "> Welcome to first day (Week 4) of the McE-51069 course. We will introduce the basic concepts of reinforcement learning (RL) and do coding walkthrough by exploring exciting RL algorithms.\n",
    "\n",
    "- sticky_rank: 4\n",
    "- toc: true\n",
    "- badges: false\n",
    "- comments: false\n",
    "- categories: [rl, introduction]"
   ]
  },
  {
   "cell_type": "code",
   "execution_count": null,
   "metadata": {},
   "outputs": [],
   "source": []
  }
 ],
 "metadata": {
  "kernelspec": {
   "display_name": "Python 3",
   "language": "python",
   "name": "python3"
  },
  "language_info": {
   "codemirror_mode": {
    "name": "ipython",
    "version": 3
   },
   "file_extension": ".py",
   "mimetype": "text/x-python",
   "name": "python",
   "nbconvert_exporter": "python",
   "pygments_lexer": "ipython3",
   "version": "3.8.5"
  }
 },
 "nbformat": 4,
 "nbformat_minor": 4
}
